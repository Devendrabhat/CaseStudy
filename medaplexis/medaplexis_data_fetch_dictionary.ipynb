{
 "cells": [
  {
   "cell_type": "code",
   "execution_count": 19,
   "metadata": {
    "collapsed": true
   },
   "outputs": [],
   "source": [
    "import pandas as pd\n",
    "import numpy as np\n",
    "import matplotlib.pyplot as plt\n",
    "%matplotlib inline\n",
    "import seaborn as sns"
   ]
  },
  {
   "cell_type": "raw",
   "metadata": {},
   "source": [
    "HospitalProfiling.csv:    This dataset contains hospital profiles. The file is organized into\tthe\tfollowing fields:\n",
    "Hospital_ID\tis the\thospital's unique ID.\n",
    "District_ID\tis the ID of district where the hospital is\tlocated.\n",
    "Hospital_employees is the total\tnumber of permanent employees at the hospital."
   ]
  },
  {
   "cell_type": "code",
   "execution_count": 109,
   "metadata": {
    "collapsed": false
   },
   "outputs": [
    {
     "name": "stdout",
     "output_type": "stream",
     "text": [
      "Total no of (rows, columns) :  (27865, 3)\n"
     ]
    },
    {
     "data": {
      "text/html": [
       "<div>\n",
       "<table border=\"1\" class=\"dataframe\">\n",
       "  <thead>\n",
       "    <tr style=\"text-align: right;\">\n",
       "      <th></th>\n",
       "      <th>Hospital_ID</th>\n",
       "      <th>District_ID</th>\n",
       "      <th>Hospital_employees</th>\n",
       "    </tr>\n",
       "  </thead>\n",
       "  <tbody>\n",
       "    <tr>\n",
       "      <th>0</th>\n",
       "      <td>Hospital 1</td>\n",
       "      <td>District 12</td>\n",
       "      <td>3</td>\n",
       "    </tr>\n",
       "    <tr>\n",
       "      <th>1</th>\n",
       "      <td>Hospital 1</td>\n",
       "      <td>District 13</td>\n",
       "      <td>6</td>\n",
       "    </tr>\n",
       "    <tr>\n",
       "      <th>2</th>\n",
       "      <td>Hospital 1</td>\n",
       "      <td>District 15</td>\n",
       "      <td>2</td>\n",
       "    </tr>\n",
       "    <tr>\n",
       "      <th>3</th>\n",
       "      <td>Hospital 1</td>\n",
       "      <td>District 16</td>\n",
       "      <td>3</td>\n",
       "    </tr>\n",
       "    <tr>\n",
       "      <th>4</th>\n",
       "      <td>Hospital 1</td>\n",
       "      <td>District 19</td>\n",
       "      <td>5</td>\n",
       "    </tr>\n",
       "  </tbody>\n",
       "</table>\n",
       "</div>"
      ],
      "text/plain": [
       "  Hospital_ID  District_ID  Hospital_employees\n",
       "0  Hospital 1  District 12                   3\n",
       "1  Hospital 1  District 13                   6\n",
       "2  Hospital 1  District 15                   2\n",
       "3  Hospital 1  District 16                   3\n",
       "4  Hospital 1  District 19                   5"
      ]
     },
     "execution_count": 109,
     "metadata": {},
     "output_type": "execute_result"
    }
   ],
   "source": [
    "h_prof = pd.read_csv(\"data/HospitalProfiling.csv\")\n",
    "print(\"Total no of (rows, columns) : \", h_prof.shape)\n",
    "h_prof.head()"
   ]
  },
  {
   "cell_type": "code",
   "execution_count": 110,
   "metadata": {
    "collapsed": false
   },
   "outputs": [
    {
     "data": {
      "text/html": [
       "<div>\n",
       "<table border=\"1\" class=\"dataframe\">\n",
       "  <thead>\n",
       "    <tr style=\"text-align: right;\">\n",
       "      <th></th>\n",
       "      <th>Hospital_ID</th>\n",
       "      <th>District_ID</th>\n",
       "    </tr>\n",
       "  </thead>\n",
       "  <tbody>\n",
       "    <tr>\n",
       "      <th>count</th>\n",
       "      <td>27865</td>\n",
       "      <td>27865</td>\n",
       "    </tr>\n",
       "    <tr>\n",
       "      <th>unique</th>\n",
       "      <td>1538</td>\n",
       "      <td>49</td>\n",
       "    </tr>\n",
       "    <tr>\n",
       "      <th>top</th>\n",
       "      <td>Hospital 998</td>\n",
       "      <td>District 53</td>\n",
       "    </tr>\n",
       "    <tr>\n",
       "      <th>freq</th>\n",
       "      <td>206</td>\n",
       "      <td>1495</td>\n",
       "    </tr>\n",
       "  </tbody>\n",
       "</table>\n",
       "</div>"
      ],
      "text/plain": [
       "         Hospital_ID  District_ID\n",
       "count          27865        27865\n",
       "unique          1538           49\n",
       "top     Hospital 998  District 53\n",
       "freq             206         1495"
      ]
     },
     "execution_count": 110,
     "metadata": {},
     "output_type": "execute_result"
    }
   ],
   "source": [
    "h_prof.describe(include=['object'])"
   ]
  },
  {
   "cell_type": "code",
   "execution_count": 111,
   "metadata": {
    "collapsed": false
   },
   "outputs": [
    {
     "data": {
      "text/html": [
       "<div>\n",
       "<table border=\"1\" class=\"dataframe\">\n",
       "  <thead>\n",
       "    <tr style=\"text-align: right;\">\n",
       "      <th></th>\n",
       "      <th>Hospital_employees</th>\n",
       "    </tr>\n",
       "  </thead>\n",
       "  <tbody>\n",
       "    <tr>\n",
       "      <th>count</th>\n",
       "      <td>2.786500e+04</td>\n",
       "    </tr>\n",
       "    <tr>\n",
       "      <th>mean</th>\n",
       "      <td>1.024301e+03</td>\n",
       "    </tr>\n",
       "    <tr>\n",
       "      <th>std</th>\n",
       "      <td>1.609038e+04</td>\n",
       "    </tr>\n",
       "    <tr>\n",
       "      <th>min</th>\n",
       "      <td>1.000000e+00</td>\n",
       "    </tr>\n",
       "    <tr>\n",
       "      <th>25%</th>\n",
       "      <td>9.000000e+00</td>\n",
       "    </tr>\n",
       "    <tr>\n",
       "      <th>50%</th>\n",
       "      <td>4.600000e+01</td>\n",
       "    </tr>\n",
       "    <tr>\n",
       "      <th>75%</th>\n",
       "      <td>2.450000e+02</td>\n",
       "    </tr>\n",
       "    <tr>\n",
       "      <th>max</th>\n",
       "      <td>1.996329e+06</td>\n",
       "    </tr>\n",
       "  </tbody>\n",
       "</table>\n",
       "</div>"
      ],
      "text/plain": [
       "       Hospital_employees\n",
       "count        2.786500e+04\n",
       "mean         1.024301e+03\n",
       "std          1.609038e+04\n",
       "min          1.000000e+00\n",
       "25%          9.000000e+00\n",
       "50%          4.600000e+01\n",
       "75%          2.450000e+02\n",
       "max          1.996329e+06"
      ]
     },
     "execution_count": 111,
     "metadata": {},
     "output_type": "execute_result"
    }
   ],
   "source": [
    "h_prof.describe(include=['int64'])"
   ]
  },
  {
   "cell_type": "markdown",
   "metadata": {},
   "source": [
    "##### As all columns have 27865 rows there are no missing values"
   ]
  },
  {
   "cell_type": "code",
   "execution_count": 112,
   "metadata": {
    "collapsed": false
   },
   "outputs": [
    {
     "data": {
      "text/plain": [
       "<matplotlib.axes._subplots.AxesSubplot at 0x7f79b81dd048>"
      ]
     },
     "execution_count": 112,
     "metadata": {},
     "output_type": "execute_result"
    },
    {
     "data": {
      "image/png": "[encoded data removed]",
      "text/plain": [
       "<matplotlib.figure.Figure at 0x7f79b9552860>"
      ]
     },
     "metadata": {},
     "output_type": "display_data"
    }
   ],
   "source": [
    "h_prof.Hospital_employees.plot(kind='density', figsize=(8,8))"
   ]
  },
  {
   "cell_type": "markdown",
   "metadata": {},
   "source": [
    "#### ProjectedRevenue.csv- This dataset provides details about leasing deals closed by hospitals which should show up as hospital revenue for the next year. The file is organized into the following fields:\n",
    "Hospital_ID\tis the hospital's unique ID.\n",
    "\n",
    "District_ID\tis the ID of district where the hospital is located.\n",
    "\n",
    "Instrument_ID is the ID of the instrument that the hospital is leasing.\n",
    "\n",
    "Annual_Projected_Revenue is the projected revenue (in dollars) for the next year."
   ]
  },
  {
   "cell_type": "code",
   "execution_count": 113,
   "metadata": {
    "collapsed": false
   },
   "outputs": [
    {
     "name": "stdout",
     "output_type": "stream",
     "text": [
      "Total no of (rows, columns) :  (11410, 4)\n"
     ]
    },
    {
     "data": {
      "text/html": [
       "<div>\n",
       "<table border=\"1\" class=\"dataframe\">\n",
       "  <thead>\n",
       "    <tr style=\"text-align: right;\">\n",
       "      <th></th>\n",
       "      <th>Hospital_ID</th>\n",
       "      <th>District_ID</th>\n",
       "      <th>Instrument_ID</th>\n",
       "      <th>Annual_Projected_Revenue</th>\n",
       "    </tr>\n",
       "  </thead>\n",
       "  <tbody>\n",
       "    <tr>\n",
       "      <th>0</th>\n",
       "      <td>Hospital 1</td>\n",
       "      <td>District 13</td>\n",
       "      <td>Instrument 2</td>\n",
       "      <td>17164</td>\n",
       "    </tr>\n",
       "    <tr>\n",
       "      <th>1</th>\n",
       "      <td>Hospital 1</td>\n",
       "      <td>District 13</td>\n",
       "      <td>Instrument 3</td>\n",
       "      <td>655645</td>\n",
       "    </tr>\n",
       "    <tr>\n",
       "      <th>2</th>\n",
       "      <td>Hospital 1</td>\n",
       "      <td>District 13</td>\n",
       "      <td>Instrument 4</td>\n",
       "      <td>281452</td>\n",
       "    </tr>\n",
       "    <tr>\n",
       "      <th>3</th>\n",
       "      <td>Hospital 1</td>\n",
       "      <td>District 2</td>\n",
       "      <td>Instrument 2</td>\n",
       "      <td>12199</td>\n",
       "    </tr>\n",
       "    <tr>\n",
       "      <th>4</th>\n",
       "      <td>Hospital 1</td>\n",
       "      <td>District 20</td>\n",
       "      <td>Instrument 2</td>\n",
       "      <td>178128</td>\n",
       "    </tr>\n",
       "  </tbody>\n",
       "</table>\n",
       "</div>"
      ],
      "text/plain": [
       "  Hospital_ID  District_ID Instrument_ID  Annual_Projected_Revenue\n",
       "0  Hospital 1  District 13  Instrument 2                     17164\n",
       "1  Hospital 1  District 13  Instrument 3                    655645\n",
       "2  Hospital 1  District 13  Instrument 4                    281452\n",
       "3  Hospital 1   District 2  Instrument 2                     12199\n",
       "4  Hospital 1  District 20  Instrument 2                    178128"
      ]
     },
     "execution_count": 113,
     "metadata": {},
     "output_type": "execute_result"
    }
   ],
   "source": [
    "proj_rev = pd.read_csv(\"data/ProjectedRevenue.csv\")\n",
    "print(\"Total no of (rows, columns) : \", proj_rev.shape)\n",
    "proj_rev.head()"
   ]
  },
  {
   "cell_type": "code",
   "execution_count": 114,
   "metadata": {
    "collapsed": false
   },
   "outputs": [
    {
     "data": {
      "text/html": [
       "<div>\n",
       "<table border=\"1\" class=\"dataframe\">\n",
       "  <thead>\n",
       "    <tr style=\"text-align: right;\">\n",
       "      <th></th>\n",
       "      <th>Hospital_ID</th>\n",
       "      <th>District_ID</th>\n",
       "      <th>Instrument_ID</th>\n",
       "    </tr>\n",
       "  </thead>\n",
       "  <tbody>\n",
       "    <tr>\n",
       "      <th>count</th>\n",
       "      <td>11410</td>\n",
       "      <td>11410</td>\n",
       "      <td>11410</td>\n",
       "    </tr>\n",
       "    <tr>\n",
       "      <th>unique</th>\n",
       "      <td>1234</td>\n",
       "      <td>52</td>\n",
       "      <td>11</td>\n",
       "    </tr>\n",
       "    <tr>\n",
       "      <th>top</th>\n",
       "      <td>Hospital 926</td>\n",
       "      <td>District 20</td>\n",
       "      <td>Instrument 2</td>\n",
       "    </tr>\n",
       "    <tr>\n",
       "      <th>freq</th>\n",
       "      <td>88</td>\n",
       "      <td>1844</td>\n",
       "      <td>3814</td>\n",
       "    </tr>\n",
       "  </tbody>\n",
       "</table>\n",
       "</div>"
      ],
      "text/plain": [
       "         Hospital_ID  District_ID Instrument_ID\n",
       "count          11410        11410         11410\n",
       "unique          1234           52            11\n",
       "top     Hospital 926  District 20  Instrument 2\n",
       "freq              88         1844          3814"
      ]
     },
     "execution_count": 114,
     "metadata": {},
     "output_type": "execute_result"
    }
   ],
   "source": [
    "proj_rev.describe(include=['object'])"
   ]
  },
  {
   "cell_type": "code",
   "execution_count": 115,
   "metadata": {
    "collapsed": false
   },
   "outputs": [
    {
     "data": {
      "text/html": [
       "<div>\n",
       "<table border=\"1\" class=\"dataframe\">\n",
       "  <thead>\n",
       "    <tr style=\"text-align: right;\">\n",
       "      <th></th>\n",
       "      <th>Annual_Projected_Revenue</th>\n",
       "    </tr>\n",
       "  </thead>\n",
       "  <tbody>\n",
       "    <tr>\n",
       "      <th>count</th>\n",
       "      <td>1.141000e+04</td>\n",
       "    </tr>\n",
       "    <tr>\n",
       "      <th>mean</th>\n",
       "      <td>8.703573e+04</td>\n",
       "    </tr>\n",
       "    <tr>\n",
       "      <th>std</th>\n",
       "      <td>4.980154e+05</td>\n",
       "    </tr>\n",
       "    <tr>\n",
       "      <th>min</th>\n",
       "      <td>1.020000e+02</td>\n",
       "    </tr>\n",
       "    <tr>\n",
       "      <th>25%</th>\n",
       "      <td>2.900500e+03</td>\n",
       "    </tr>\n",
       "    <tr>\n",
       "      <th>50%</th>\n",
       "      <td>1.200000e+04</td>\n",
       "    </tr>\n",
       "    <tr>\n",
       "      <th>75%</th>\n",
       "      <td>4.713775e+04</td>\n",
       "    </tr>\n",
       "    <tr>\n",
       "      <th>max</th>\n",
       "      <td>2.358150e+07</td>\n",
       "    </tr>\n",
       "  </tbody>\n",
       "</table>\n",
       "</div>"
      ],
      "text/plain": [
       "       Annual_Projected_Revenue\n",
       "count              1.141000e+04\n",
       "mean               8.703573e+04\n",
       "std                4.980154e+05\n",
       "min                1.020000e+02\n",
       "25%                2.900500e+03\n",
       "50%                1.200000e+04\n",
       "75%                4.713775e+04\n",
       "max                2.358150e+07"
      ]
     },
     "execution_count": 115,
     "metadata": {},
     "output_type": "execute_result"
    }
   ],
   "source": [
    "proj_rev.describe()"
   ]
  },
  {
   "cell_type": "code",
   "execution_count": 116,
   "metadata": {
    "collapsed": false
   },
   "outputs": [
    {
     "data": {
      "image/png": "[encoded data removed]",
      "text/plain": [
       "<matplotlib.figure.Figure at 0x7f79b94f04e0>"
      ]
     },
     "metadata": {},
     "output_type": "display_data"
    }
   ],
   "source": [
    "#visualize the transformed column\n",
    "sns.violinplot(data=proj_rev,y=\"Annual_Projected_Revenue\")  \n",
    "plt.show()"
   ]
  },
  {
   "cell_type": "code",
   "execution_count": 117,
   "metadata": {
    "collapsed": false
   },
   "outputs": [
    {
     "data": {
      "image/png": "[encoded data removed]",
      "text/plain": [
       "<matplotlib.figure.Figure at 0x7f79b80b94a8>"
      ]
     },
     "metadata": {},
     "output_type": "display_data"
    }
   ],
   "source": [
    "proj_rev[\"Annual_Projected_Revenue_new\"] = np.log1p(proj_rev[\"Annual_Projected_Revenue\"])\n",
    "sns.violinplot(data=proj_rev,y=\"Annual_Projected_Revenue_new\")  \n",
    "plt.show()"
   ]
  },
  {
   "cell_type": "raw",
   "metadata": {},
   "source": [
    "HospitalRevenue.csv\t- This dataset contains\thospital revenue for the current year. The file\tis organized into the following\tfields:\n",
    "Hospital_ID\tis\tthe\thospital's\tunique\tID.\n",
    "Region_ID\tis\tthe\tregion\tID\tfor\tthe\tregion\twhere\tthe\thospital\tis\tlocated.\n",
    "District_ID\tis\tthe\tID\tof\tdistrict\twhere\tthe\thospital\tis\tlocated.\n",
    "Instrument_ID\tis\tthe\tID\tof\tthe\tinstrument\tthat\tthe\thospital\tis\tleasing.\n",
    "Transaction_Revenue\tis\tthe\trevenue\t(in\tdollars) generated at the end of the month from\trelated tractions. The transaction\trevenue\tis\tcaptured\tfor\t \tmonths\tand\tprovided\tin\t \tseparate\tfields\n",
    "named Month\t1,\tMonth 2,\tMonth 3,....,\tMonth 12.\tThere is also an additional\tfield named\tYear Total which contains the sum of the revenues over months."
   ]
  },
  {
   "cell_type": "code",
   "execution_count": 118,
   "metadata": {
    "collapsed": false
   },
   "outputs": [
    {
     "name": "stdout",
     "output_type": "stream",
     "text": [
      "Total no of (rows, columns) :  (44353, 17)\n"
     ]
    },
    {
     "data": {
      "text/html": [
       "<div>\n",
       "<table border=\"1\" class=\"dataframe\">\n",
       "  <thead>\n",
       "    <tr style=\"text-align: right;\">\n",
       "      <th></th>\n",
       "      <th>Hospital_ID</th>\n",
       "      <th>Region_ID</th>\n",
       "      <th>District_ID</th>\n",
       "      <th>Instrument_ID</th>\n",
       "      <th>Month_1</th>\n",
       "      <th>Month_2</th>\n",
       "      <th>Month_3</th>\n",
       "      <th>Month_4</th>\n",
       "      <th>Month_5</th>\n",
       "      <th>Month_6</th>\n",
       "      <th>Month_7</th>\n",
       "      <th>Month_8</th>\n",
       "      <th>Month_9</th>\n",
       "      <th>Month_10</th>\n",
       "      <th>Month_11</th>\n",
       "      <th>Month_12</th>\n",
       "      <th>Year_Total</th>\n",
       "    </tr>\n",
       "  </thead>\n",
       "  <tbody>\n",
       "    <tr>\n",
       "      <th>0</th>\n",
       "      <td>Hospital 1</td>\n",
       "      <td>Region 1</td>\n",
       "      <td>District 12</td>\n",
       "      <td>Instrument 2</td>\n",
       "      <td>8534</td>\n",
       "      <td>9917</td>\n",
       "      <td>7825</td>\n",
       "      <td>11702</td>\n",
       "      <td>8776</td>\n",
       "      <td>7755</td>\n",
       "      <td>9289</td>\n",
       "      <td>7796</td>\n",
       "      <td>7595</td>\n",
       "      <td>8292</td>\n",
       "      <td>7787</td>\n",
       "      <td>8282</td>\n",
       "      <td>103550</td>\n",
       "    </tr>\n",
       "    <tr>\n",
       "      <th>1</th>\n",
       "      <td>Hospital 1</td>\n",
       "      <td>Region 1</td>\n",
       "      <td>District 12</td>\n",
       "      <td>Instrument 3</td>\n",
       "      <td>298</td>\n",
       "      <td>298</td>\n",
       "      <td>214</td>\n",
       "      <td>311</td>\n",
       "      <td>261</td>\n",
       "      <td>223</td>\n",
       "      <td>237</td>\n",
       "      <td>171</td>\n",
       "      <td>173</td>\n",
       "      <td>183</td>\n",
       "      <td>193</td>\n",
       "      <td>0</td>\n",
       "      <td>2562</td>\n",
       "    </tr>\n",
       "    <tr>\n",
       "      <th>2</th>\n",
       "      <td>Hospital 1</td>\n",
       "      <td>Region 1</td>\n",
       "      <td>District 13</td>\n",
       "      <td>Instrument 1</td>\n",
       "      <td>37</td>\n",
       "      <td>40</td>\n",
       "      <td>38</td>\n",
       "      <td>43</td>\n",
       "      <td>29</td>\n",
       "      <td>0</td>\n",
       "      <td>0</td>\n",
       "      <td>0</td>\n",
       "      <td>0</td>\n",
       "      <td>0</td>\n",
       "      <td>0</td>\n",
       "      <td>0</td>\n",
       "      <td>187</td>\n",
       "    </tr>\n",
       "    <tr>\n",
       "      <th>3</th>\n",
       "      <td>Hospital 1</td>\n",
       "      <td>Region 1</td>\n",
       "      <td>District 13</td>\n",
       "      <td>Instrument 2</td>\n",
       "      <td>2486</td>\n",
       "      <td>3332</td>\n",
       "      <td>3193</td>\n",
       "      <td>2556</td>\n",
       "      <td>2108</td>\n",
       "      <td>2757</td>\n",
       "      <td>2639</td>\n",
       "      <td>2531</td>\n",
       "      <td>2771</td>\n",
       "      <td>2682</td>\n",
       "      <td>12317</td>\n",
       "      <td>1369</td>\n",
       "      <td>40741</td>\n",
       "    </tr>\n",
       "    <tr>\n",
       "      <th>4</th>\n",
       "      <td>Hospital 1</td>\n",
       "      <td>Region 1</td>\n",
       "      <td>District 13</td>\n",
       "      <td>Instrument 3</td>\n",
       "      <td>857</td>\n",
       "      <td>892</td>\n",
       "      <td>739</td>\n",
       "      <td>759</td>\n",
       "      <td>736</td>\n",
       "      <td>415</td>\n",
       "      <td>1203</td>\n",
       "      <td>434</td>\n",
       "      <td>448</td>\n",
       "      <td>113</td>\n",
       "      <td>829</td>\n",
       "      <td>1124</td>\n",
       "      <td>8549</td>\n",
       "    </tr>\n",
       "  </tbody>\n",
       "</table>\n",
       "</div>"
      ],
      "text/plain": [
       "  Hospital_ID Region_ID  District_ID Instrument_ID  Month_1  Month_2  Month_3  \\\n",
       "0  Hospital 1  Region 1  District 12  Instrument 2     8534     9917     7825   \n",
       "1  Hospital 1  Region 1  District 12  Instrument 3      298      298      214   \n",
       "2  Hospital 1  Region 1  District 13  Instrument 1       37       40       38   \n",
       "3  Hospital 1  Region 1  District 13  Instrument 2     2486     3332     3193   \n",
       "4  Hospital 1  Region 1  District 13  Instrument 3      857      892      739   \n",
       "\n",
       "   Month_4  Month_5  Month_6  Month_7  Month_8  Month_9  Month_10  Month_11  \\\n",
       "0    11702     8776     7755     9289     7796     7595      8292      7787   \n",
       "1      311      261      223      237      171      173       183       193   \n",
       "2       43       29        0        0        0        0         0         0   \n",
       "3     2556     2108     2757     2639     2531     2771      2682     12317   \n",
       "4      759      736      415     1203      434      448       113       829   \n",
       "\n",
       "   Month_12  Year_Total  \n",
       "0      8282      103550  \n",
       "1         0        2562  \n",
       "2         0         187  \n",
       "3      1369       40741  \n",
       "4      1124        8549  "
      ]
     },
     "execution_count": 118,
     "metadata": {},
     "output_type": "execute_result"
    }
   ],
   "source": [
    "h_rev = pd.read_csv(\"data/HospitalRevenue.csv\")\n",
    "print(\"Total no of (rows, columns) : \", h_rev.shape)\n",
    "h_rev.head()"
   ]
  },
  {
   "cell_type": "code",
   "execution_count": 119,
   "metadata": {
    "collapsed": false
   },
   "outputs": [
    {
     "data": {
      "text/html": [
       "<div>\n",
       "<table border=\"1\" class=\"dataframe\">\n",
       "  <thead>\n",
       "    <tr style=\"text-align: right;\">\n",
       "      <th></th>\n",
       "      <th>Month_1</th>\n",
       "      <th>Month_2</th>\n",
       "      <th>Month_3</th>\n",
       "      <th>Month_4</th>\n",
       "      <th>Month_5</th>\n",
       "      <th>Month_6</th>\n",
       "      <th>Month_7</th>\n",
       "      <th>Month_8</th>\n",
       "      <th>Month_9</th>\n",
       "      <th>Month_10</th>\n",
       "      <th>Month_11</th>\n",
       "      <th>Month_12</th>\n",
       "      <th>Year_Total</th>\n",
       "    </tr>\n",
       "  </thead>\n",
       "  <tbody>\n",
       "    <tr>\n",
       "      <th>count</th>\n",
       "      <td>4.435300e+04</td>\n",
       "      <td>4.435300e+04</td>\n",
       "      <td>4.435300e+04</td>\n",
       "      <td>4.435300e+04</td>\n",
       "      <td>4.435300e+04</td>\n",
       "      <td>4.435300e+04</td>\n",
       "      <td>4.435300e+04</td>\n",
       "      <td>4.435300e+04</td>\n",
       "      <td>4.435300e+04</td>\n",
       "      <td>4.435300e+04</td>\n",
       "      <td>4.435300e+04</td>\n",
       "      <td>4.435300e+04</td>\n",
       "      <td>4.435300e+04</td>\n",
       "    </tr>\n",
       "    <tr>\n",
       "      <th>mean</th>\n",
       "      <td>2.439288e+03</td>\n",
       "      <td>2.515734e+03</td>\n",
       "      <td>2.562847e+03</td>\n",
       "      <td>2.480626e+03</td>\n",
       "      <td>2.641750e+03</td>\n",
       "      <td>2.692442e+03</td>\n",
       "      <td>2.608996e+03</td>\n",
       "      <td>2.609247e+03</td>\n",
       "      <td>2.658345e+03</td>\n",
       "      <td>2.638559e+03</td>\n",
       "      <td>3.179302e+03</td>\n",
       "      <td>2.639070e+03</td>\n",
       "      <td>3.166621e+04</td>\n",
       "    </tr>\n",
       "    <tr>\n",
       "      <th>std</th>\n",
       "      <td>1.955569e+04</td>\n",
       "      <td>1.722204e+04</td>\n",
       "      <td>1.852453e+04</td>\n",
       "      <td>1.774030e+04</td>\n",
       "      <td>1.931754e+04</td>\n",
       "      <td>2.028655e+04</td>\n",
       "      <td>1.898657e+04</td>\n",
       "      <td>2.098131e+04</td>\n",
       "      <td>2.158379e+04</td>\n",
       "      <td>1.970812e+04</td>\n",
       "      <td>2.903776e+04</td>\n",
       "      <td>1.912902e+04</td>\n",
       "      <td>2.110960e+05</td>\n",
       "    </tr>\n",
       "    <tr>\n",
       "      <th>min</th>\n",
       "      <td>-1.223435e+06</td>\n",
       "      <td>-1.944620e+05</td>\n",
       "      <td>-5.149670e+05</td>\n",
       "      <td>-2.932610e+05</td>\n",
       "      <td>-2.343230e+05</td>\n",
       "      <td>-3.143660e+05</td>\n",
       "      <td>-4.364940e+05</td>\n",
       "      <td>-5.097630e+05</td>\n",
       "      <td>-8.961340e+05</td>\n",
       "      <td>-2.811200e+05</td>\n",
       "      <td>-1.471149e+06</td>\n",
       "      <td>-3.068690e+05</td>\n",
       "      <td>-2.040193e+06</td>\n",
       "    </tr>\n",
       "    <tr>\n",
       "      <th>25%</th>\n",
       "      <td>0.000000e+00</td>\n",
       "      <td>0.000000e+00</td>\n",
       "      <td>0.000000e+00</td>\n",
       "      <td>0.000000e+00</td>\n",
       "      <td>0.000000e+00</td>\n",
       "      <td>0.000000e+00</td>\n",
       "      <td>0.000000e+00</td>\n",
       "      <td>0.000000e+00</td>\n",
       "      <td>0.000000e+00</td>\n",
       "      <td>0.000000e+00</td>\n",
       "      <td>0.000000e+00</td>\n",
       "      <td>0.000000e+00</td>\n",
       "      <td>2.470000e+02</td>\n",
       "    </tr>\n",
       "    <tr>\n",
       "      <th>50%</th>\n",
       "      <td>8.700000e+01</td>\n",
       "      <td>9.000000e+01</td>\n",
       "      <td>9.200000e+01</td>\n",
       "      <td>8.500000e+01</td>\n",
       "      <td>7.600000e+01</td>\n",
       "      <td>5.900000e+01</td>\n",
       "      <td>6.900000e+01</td>\n",
       "      <td>6.900000e+01</td>\n",
       "      <td>6.600000e+01</td>\n",
       "      <td>6.600000e+01</td>\n",
       "      <td>7.700000e+01</td>\n",
       "      <td>5.200000e+01</td>\n",
       "      <td>1.878000e+03</td>\n",
       "    </tr>\n",
       "    <tr>\n",
       "      <th>75%</th>\n",
       "      <td>8.130000e+02</td>\n",
       "      <td>8.150000e+02</td>\n",
       "      <td>8.400000e+02</td>\n",
       "      <td>8.190000e+02</td>\n",
       "      <td>8.180000e+02</td>\n",
       "      <td>7.560000e+02</td>\n",
       "      <td>7.690000e+02</td>\n",
       "      <td>7.490000e+02</td>\n",
       "      <td>7.440000e+02</td>\n",
       "      <td>7.430000e+02</td>\n",
       "      <td>8.130000e+02</td>\n",
       "      <td>7.250000e+02</td>\n",
       "      <td>1.167000e+04</td>\n",
       "    </tr>\n",
       "    <tr>\n",
       "      <th>max</th>\n",
       "      <td>1.600173e+06</td>\n",
       "      <td>1.254068e+06</td>\n",
       "      <td>1.330740e+06</td>\n",
       "      <td>1.273001e+06</td>\n",
       "      <td>1.506083e+06</td>\n",
       "      <td>1.444746e+06</td>\n",
       "      <td>1.376751e+06</td>\n",
       "      <td>1.201132e+06</td>\n",
       "      <td>1.558106e+06</td>\n",
       "      <td>1.375467e+06</td>\n",
       "      <td>1.414112e+06</td>\n",
       "      <td>1.386712e+06</td>\n",
       "      <td>1.546145e+07</td>\n",
       "    </tr>\n",
       "  </tbody>\n",
       "</table>\n",
       "</div>"
      ],
      "text/plain": [
       "            Month_1       Month_2       Month_3       Month_4       Month_5  \\\n",
       "count  4.435300e+04  4.435300e+04  4.435300e+04  4.435300e+04  4.435300e+04   \n",
       "mean   2.439288e+03  2.515734e+03  2.562847e+03  2.480626e+03  2.641750e+03   \n",
       "std    1.955569e+04  1.722204e+04  1.852453e+04  1.774030e+04  1.931754e+04   \n",
       "min   -1.223435e+06 -1.944620e+05 -5.149670e+05 -2.932610e+05 -2.343230e+05   \n",
       "25%    0.000000e+00  0.000000e+00  0.000000e+00  0.000000e+00  0.000000e+00   \n",
       "50%    8.700000e+01  9.000000e+01  9.200000e+01  8.500000e+01  7.600000e+01   \n",
       "75%    8.130000e+02  8.150000e+02  8.400000e+02  8.190000e+02  8.180000e+02   \n",
       "max    1.600173e+06  1.254068e+06  1.330740e+06  1.273001e+06  1.506083e+06   \n",
       "\n",
       "            Month_6       Month_7       Month_8       Month_9      Month_10  \\\n",
       "count  4.435300e+04  4.435300e+04  4.435300e+04  4.435300e+04  4.435300e+04   \n",
       "mean   2.692442e+03  2.608996e+03  2.609247e+03  2.658345e+03  2.638559e+03   \n",
       "std    2.028655e+04  1.898657e+04  2.098131e+04  2.158379e+04  1.970812e+04   \n",
       "min   -3.143660e+05 -4.364940e+05 -5.097630e+05 -8.961340e+05 -2.811200e+05   \n",
       "25%    0.000000e+00  0.000000e+00  0.000000e+00  0.000000e+00  0.000000e+00   \n",
       "50%    5.900000e+01  6.900000e+01  6.900000e+01  6.600000e+01  6.600000e+01   \n",
       "75%    7.560000e+02  7.690000e+02  7.490000e+02  7.440000e+02  7.430000e+02   \n",
       "max    1.444746e+06  1.376751e+06  1.201132e+06  1.558106e+06  1.375467e+06   \n",
       "\n",
       "           Month_11      Month_12    Year_Total  \n",
       "count  4.435300e+04  4.435300e+04  4.435300e+04  \n",
       "mean   3.179302e+03  2.639070e+03  3.166621e+04  \n",
       "std    2.903776e+04  1.912902e+04  2.110960e+05  \n",
       "min   -1.471149e+06 -3.068690e+05 -2.040193e+06  \n",
       "25%    0.000000e+00  0.000000e+00  2.470000e+02  \n",
       "50%    7.700000e+01  5.200000e+01  1.878000e+03  \n",
       "75%    8.130000e+02  7.250000e+02  1.167000e+04  \n",
       "max    1.414112e+06  1.386712e+06  1.546145e+07  "
      ]
     },
     "execution_count": 119,
     "metadata": {},
     "output_type": "execute_result"
    }
   ],
   "source": [
    "h_rev.describe()"
   ]
  },
  {
   "cell_type": "code",
   "execution_count": 120,
   "metadata": {
    "collapsed": false
   },
   "outputs": [
    {
     "data": {
      "text/html": [
       "<div>\n",
       "<table border=\"1\" class=\"dataframe\">\n",
       "  <thead>\n",
       "    <tr style=\"text-align: right;\">\n",
       "      <th></th>\n",
       "      <th>Hospital_ID</th>\n",
       "      <th>Region_ID</th>\n",
       "      <th>District_ID</th>\n",
       "      <th>Instrument_ID</th>\n",
       "    </tr>\n",
       "  </thead>\n",
       "  <tbody>\n",
       "    <tr>\n",
       "      <th>count</th>\n",
       "      <td>44353</td>\n",
       "      <td>44353</td>\n",
       "      <td>44353</td>\n",
       "      <td>44353</td>\n",
       "    </tr>\n",
       "    <tr>\n",
       "      <th>unique</th>\n",
       "      <td>1601</td>\n",
       "      <td>6</td>\n",
       "      <td>53</td>\n",
       "      <td>15</td>\n",
       "    </tr>\n",
       "    <tr>\n",
       "      <th>top</th>\n",
       "      <td>Hospital 425</td>\n",
       "      <td>Region 2</td>\n",
       "      <td>District 13</td>\n",
       "      <td>Instrument 2</td>\n",
       "    </tr>\n",
       "    <tr>\n",
       "      <th>freq</th>\n",
       "      <td>132</td>\n",
       "      <td>14763</td>\n",
       "      <td>4878</td>\n",
       "      <td>13638</td>\n",
       "    </tr>\n",
       "  </tbody>\n",
       "</table>\n",
       "</div>"
      ],
      "text/plain": [
       "         Hospital_ID Region_ID  District_ID Instrument_ID\n",
       "count          44353     44353        44353         44353\n",
       "unique          1601         6           53            15\n",
       "top     Hospital 425  Region 2  District 13  Instrument 2\n",
       "freq             132     14763         4878         13638"
      ]
     },
     "execution_count": 120,
     "metadata": {},
     "output_type": "execute_result"
    }
   ],
   "source": [
    "h_rev.describe(include=['object'])"
   ]
  },
  {
   "cell_type": "markdown",
   "metadata": {},
   "source": [
    "### It seem that there is no missing value present in data"
   ]
  },
  {
   "cell_type": "code",
   "execution_count": 121,
   "metadata": {
    "collapsed": false
   },
   "outputs": [
    {
     "data": {
      "image/png": "[encoded data removed]",
      "text/plain": [
       "<matplotlib.figure.Figure at 0x7f79b80b41d0>"
      ]
     },
     "metadata": {},
     "output_type": "display_data"
    }
   ],
   "source": [
    "sns.violinplot(data=h_rev,y=\"Year_Total\")  \n",
    "plt.show()"
   ]
  },
  {
   "cell_type": "raw",
   "metadata": {},
   "source": [
    "h_rev[\"Year_Total_reci\"] = 1/h_rev[\"Year_Total\"]\n",
    "len(h_rev[\"Year_Total_reci\"])\n",
    "len([ i for i in h_rev[\"Year_Total_reci\"].isnull() if i == True])"
   ]
  },
  {
   "cell_type": "code",
   "execution_count": 122,
   "metadata": {
    "collapsed": false
   },
   "outputs": [
    {
     "name": "stdout",
     "output_type": "stream",
     "text": [
      "median :  1878.0\n",
      "mean 31666.207381687822\n",
      "min -2040193\n",
      "max 15461449\n",
      "total count :  44353\n",
      "Count of Values less than 0 1021\n",
      "Count of Values between 0 and median  21038\n",
      "Count of value 0  112\n"
     ]
    }
   ],
   "source": [
    "# count of Values less than 0\n",
    "print(\"median : \", np.median(h_rev[\"Year_Total\"]))\n",
    "print (\"mean\", np.mean(h_rev.Year_Total))\n",
    "print(\"min\", np.min(h_rev.Year_Total))\n",
    "print(\"max\", np.max(h_rev.Year_Total))\n",
    "print(\"total count : \", len(h_rev[\"Year_Total\"]))\n",
    "print(\"Count of Values less than 0\", len([i for i in h_rev[\"Year_Total\"] if i <0]))\n",
    "print(\"Count of Values between 0 and median \", len([i for i in h_rev[\"Year_Total\"] if i > 0 and i < 1878.0 ]))\n",
    "print(\"Count of value 0 \", len([i for i in h_rev[\"Year_Total\"] if i == 0]))"
   ]
  },
  {
   "cell_type": "markdown",
   "metadata": {},
   "source": [
    "#### Get numerical columns"
   ]
  },
  {
   "cell_type": "code",
   "execution_count": 128,
   "metadata": {
    "collapsed": false,
    "scrolled": true
   },
   "outputs": [
    {
     "data": {
      "image/png": "[encoded data removed]",
      "text/plain": [
       "<matplotlib.figure.Figure at 0x7f79b82e9780>"
      ]
     },
     "metadata": {},
     "output_type": "display_data"
    },
    {
     "data": {
      "image/png": "[encoded data removed]",
      "text/plain": [
       "<matplotlib.figure.Figure at 0x7f79b94a8908>"
      ]
     },
     "metadata": {},
     "output_type": "display_data"
    },
    {
     "data": {
      "image/png": "[encoded data removed]",
      "text/plain": [
       "<matplotlib.figure.Figure at 0x7f79b98568d0>"
      ]
     },
     "metadata": {},
     "output_type": "display_data"
    },
    {
     "data": {
      "image/png": "[encoded data removed]",
      "text/plain": [
       "<matplotlib.figure.Figure at 0x7f79b812ee80>"
      ]
     },
     "metadata": {},
     "output_type": "display_data"
    },
    {
     "data": {
      "image/png": "[encoded data removed]",
      "text/plain": [
       "<matplotlib.figure.Figure at 0x7f79b80cf2e8>"
      ]
     },
     "metadata": {},
     "output_type": "display_data"
    },
    {
     "data": {
      "image/png": "[encoded data removed]",
      "text/plain": [
       "<matplotlib.figure.Figure at 0x7f79a3fb2a90>"
      ]
     },
     "metadata": {},
     "output_type": "display_data"
    }
   ],
   "source": [
    "cont_cols = [key for key in dict(h_rev.dtypes) if dict(h_rev.dtypes)[key] in ['float64', 'int64']]\n",
    "size = len(cont_cols)\n",
    "\n",
    "#Plot violin for all attributes in a 7x2 grid\n",
    "n_cols = 2\n",
    "n_rows = 6\n",
    "\n",
    "for i in range(n_rows):\n",
    "    fg,ax = plt.subplots(nrows=1,ncols=n_cols,figsize=(12, 8))\n",
    "    for j in range(n_cols):\n",
    "        sns.violinplot(y=cont_cols[i*n_cols+j], data=h_rev, ax=ax[j])"
   ]
  },
  {
   "cell_type": "raw",
   "metadata": {},
   "source": [
    "Proof \"Hospital_ID\", \"District_ID\", \"Instrument_ID\" is composite primary key"
   ]
  },
  {
   "cell_type": "code",
   "execution_count": 155,
   "metadata": {
    "collapsed": false,
    "scrolled": true
   },
   "outputs": [
    {
     "data": {
      "text/html": [
       "<div>\n",
       "<table border=\"1\" class=\"dataframe\">\n",
       "  <thead>\n",
       "    <tr style=\"text-align: right;\">\n",
       "      <th></th>\n",
       "      <th>Hospital_ID</th>\n",
       "      <th>District_ID</th>\n",
       "      <th>Instrument_ID</th>\n",
       "      <th>count</th>\n",
       "    </tr>\n",
       "  </thead>\n",
       "  <tbody>\n",
       "    <tr>\n",
       "      <th>0</th>\n",
       "      <td>Hospital 1</td>\n",
       "      <td>District 13</td>\n",
       "      <td>Instrument 2</td>\n",
       "      <td>1</td>\n",
       "    </tr>\n",
       "    <tr>\n",
       "      <th>1</th>\n",
       "      <td>Hospital 1</td>\n",
       "      <td>District 13</td>\n",
       "      <td>Instrument 3</td>\n",
       "      <td>1</td>\n",
       "    </tr>\n",
       "    <tr>\n",
       "      <th>2</th>\n",
       "      <td>Hospital 1</td>\n",
       "      <td>District 13</td>\n",
       "      <td>Instrument 4</td>\n",
       "      <td>1</td>\n",
       "    </tr>\n",
       "    <tr>\n",
       "      <th>3</th>\n",
       "      <td>Hospital 1</td>\n",
       "      <td>District 13</td>\n",
       "      <td>Instrument 7</td>\n",
       "      <td>1</td>\n",
       "    </tr>\n",
       "    <tr>\n",
       "      <th>4</th>\n",
       "      <td>Hospital 1</td>\n",
       "      <td>District 2</td>\n",
       "      <td>Instrument 2</td>\n",
       "      <td>1</td>\n",
       "    </tr>\n",
       "    <tr>\n",
       "      <th>5</th>\n",
       "      <td>Hospital 1</td>\n",
       "      <td>District 2</td>\n",
       "      <td>Instrument 3</td>\n",
       "      <td>1</td>\n",
       "    </tr>\n",
       "    <tr>\n",
       "      <th>6</th>\n",
       "      <td>Hospital 1</td>\n",
       "      <td>District 20</td>\n",
       "      <td>Instrument 2</td>\n",
       "      <td>1</td>\n",
       "    </tr>\n",
       "    <tr>\n",
       "      <th>7</th>\n",
       "      <td>Hospital 1</td>\n",
       "      <td>District 20</td>\n",
       "      <td>Instrument 3</td>\n",
       "      <td>1</td>\n",
       "    </tr>\n",
       "    <tr>\n",
       "      <th>8</th>\n",
       "      <td>Hospital 1</td>\n",
       "      <td>District 20</td>\n",
       "      <td>Instrument 4</td>\n",
       "      <td>1</td>\n",
       "    </tr>\n",
       "    <tr>\n",
       "      <th>9</th>\n",
       "      <td>Hospital 1</td>\n",
       "      <td>District 20</td>\n",
       "      <td>Instrument 7</td>\n",
       "      <td>1</td>\n",
       "    </tr>\n",
       "    <tr>\n",
       "      <th>10</th>\n",
       "      <td>Hospital 1</td>\n",
       "      <td>District 20</td>\n",
       "      <td>Instrument 8</td>\n",
       "      <td>1</td>\n",
       "    </tr>\n",
       "    <tr>\n",
       "      <th>11</th>\n",
       "      <td>Hospital 1</td>\n",
       "      <td>District 41</td>\n",
       "      <td>Instrument 2</td>\n",
       "      <td>1</td>\n",
       "    </tr>\n",
       "    <tr>\n",
       "      <th>12</th>\n",
       "      <td>Hospital 1</td>\n",
       "      <td>District 41</td>\n",
       "      <td>Instrument 3</td>\n",
       "      <td>1</td>\n",
       "    </tr>\n",
       "    <tr>\n",
       "      <th>13</th>\n",
       "      <td>Hospital 1</td>\n",
       "      <td>District 41</td>\n",
       "      <td>Instrument 4</td>\n",
       "      <td>1</td>\n",
       "    </tr>\n",
       "    <tr>\n",
       "      <th>14</th>\n",
       "      <td>Hospital 1</td>\n",
       "      <td>District 41</td>\n",
       "      <td>Instrument 7</td>\n",
       "      <td>1</td>\n",
       "    </tr>\n",
       "    <tr>\n",
       "      <th>15</th>\n",
       "      <td>Hospital 1</td>\n",
       "      <td>District 50</td>\n",
       "      <td>Instrument 2</td>\n",
       "      <td>1</td>\n",
       "    </tr>\n",
       "    <tr>\n",
       "      <th>16</th>\n",
       "      <td>Hospital 1</td>\n",
       "      <td>District 50</td>\n",
       "      <td>Instrument 3</td>\n",
       "      <td>1</td>\n",
       "    </tr>\n",
       "    <tr>\n",
       "      <th>17</th>\n",
       "      <td>Hospital 1</td>\n",
       "      <td>District 50</td>\n",
       "      <td>Instrument 4</td>\n",
       "      <td>1</td>\n",
       "    </tr>\n",
       "    <tr>\n",
       "      <th>18</th>\n",
       "      <td>Hospital 1000</td>\n",
       "      <td>District 39</td>\n",
       "      <td>Instrument 3</td>\n",
       "      <td>1</td>\n",
       "    </tr>\n",
       "    <tr>\n",
       "      <th>19</th>\n",
       "      <td>Hospital 1000</td>\n",
       "      <td>District 50</td>\n",
       "      <td>Instrument 2</td>\n",
       "      <td>1</td>\n",
       "    </tr>\n",
       "    <tr>\n",
       "      <th>20</th>\n",
       "      <td>Hospital 1000</td>\n",
       "      <td>District 50</td>\n",
       "      <td>Instrument 3</td>\n",
       "      <td>1</td>\n",
       "    </tr>\n",
       "    <tr>\n",
       "      <th>21</th>\n",
       "      <td>Hospital 1000</td>\n",
       "      <td>District 50</td>\n",
       "      <td>Instrument 4</td>\n",
       "      <td>1</td>\n",
       "    </tr>\n",
       "    <tr>\n",
       "      <th>22</th>\n",
       "      <td>Hospital 1001</td>\n",
       "      <td>District 13</td>\n",
       "      <td>Instrument 2</td>\n",
       "      <td>1</td>\n",
       "    </tr>\n",
       "    <tr>\n",
       "      <th>23</th>\n",
       "      <td>Hospital 1001</td>\n",
       "      <td>District 13</td>\n",
       "      <td>Instrument 5</td>\n",
       "      <td>1</td>\n",
       "    </tr>\n",
       "    <tr>\n",
       "      <th>24</th>\n",
       "      <td>Hospital 1001</td>\n",
       "      <td>District 20</td>\n",
       "      <td>Instrument 3</td>\n",
       "      <td>1</td>\n",
       "    </tr>\n",
       "    <tr>\n",
       "      <th>25</th>\n",
       "      <td>Hospital 1001</td>\n",
       "      <td>District 41</td>\n",
       "      <td>Instrument 2</td>\n",
       "      <td>1</td>\n",
       "    </tr>\n",
       "    <tr>\n",
       "      <th>26</th>\n",
       "      <td>Hospital 1001</td>\n",
       "      <td>District 41</td>\n",
       "      <td>Instrument 3</td>\n",
       "      <td>1</td>\n",
       "    </tr>\n",
       "    <tr>\n",
       "      <th>27</th>\n",
       "      <td>Hospital 1001</td>\n",
       "      <td>District 41</td>\n",
       "      <td>Instrument 4</td>\n",
       "      <td>1</td>\n",
       "    </tr>\n",
       "    <tr>\n",
       "      <th>28</th>\n",
       "      <td>Hospital 1001</td>\n",
       "      <td>District 41</td>\n",
       "      <td>Instrument 7</td>\n",
       "      <td>1</td>\n",
       "    </tr>\n",
       "    <tr>\n",
       "      <th>29</th>\n",
       "      <td>Hospital 1003</td>\n",
       "      <td>District 10</td>\n",
       "      <td>Instrument 2</td>\n",
       "      <td>1</td>\n",
       "    </tr>\n",
       "    <tr>\n",
       "      <th>...</th>\n",
       "      <td>...</td>\n",
       "      <td>...</td>\n",
       "      <td>...</td>\n",
       "      <td>...</td>\n",
       "    </tr>\n",
       "    <tr>\n",
       "      <th>11380</th>\n",
       "      <td>Hospital 997</td>\n",
       "      <td>District 41</td>\n",
       "      <td>Instrument 2</td>\n",
       "      <td>1</td>\n",
       "    </tr>\n",
       "    <tr>\n",
       "      <th>11381</th>\n",
       "      <td>Hospital 997</td>\n",
       "      <td>District 41</td>\n",
       "      <td>Instrument 3</td>\n",
       "      <td>1</td>\n",
       "    </tr>\n",
       "    <tr>\n",
       "      <th>11382</th>\n",
       "      <td>Hospital 997</td>\n",
       "      <td>District 41</td>\n",
       "      <td>Instrument 5</td>\n",
       "      <td>1</td>\n",
       "    </tr>\n",
       "    <tr>\n",
       "      <th>11383</th>\n",
       "      <td>Hospital 997</td>\n",
       "      <td>District 41</td>\n",
       "      <td>Instrument 7</td>\n",
       "      <td>1</td>\n",
       "    </tr>\n",
       "    <tr>\n",
       "      <th>11384</th>\n",
       "      <td>Hospital 997</td>\n",
       "      <td>District 50</td>\n",
       "      <td>Instrument 18</td>\n",
       "      <td>1</td>\n",
       "    </tr>\n",
       "    <tr>\n",
       "      <th>11385</th>\n",
       "      <td>Hospital 998</td>\n",
       "      <td>District 13</td>\n",
       "      <td>Instrument 2</td>\n",
       "      <td>1</td>\n",
       "    </tr>\n",
       "    <tr>\n",
       "      <th>11386</th>\n",
       "      <td>Hospital 998</td>\n",
       "      <td>District 13</td>\n",
       "      <td>Instrument 3</td>\n",
       "      <td>1</td>\n",
       "    </tr>\n",
       "    <tr>\n",
       "      <th>11387</th>\n",
       "      <td>Hospital 998</td>\n",
       "      <td>District 13</td>\n",
       "      <td>Instrument 4</td>\n",
       "      <td>1</td>\n",
       "    </tr>\n",
       "    <tr>\n",
       "      <th>11388</th>\n",
       "      <td>Hospital 998</td>\n",
       "      <td>District 18</td>\n",
       "      <td>Instrument 2</td>\n",
       "      <td>1</td>\n",
       "    </tr>\n",
       "    <tr>\n",
       "      <th>11389</th>\n",
       "      <td>Hospital 998</td>\n",
       "      <td>District 18</td>\n",
       "      <td>Instrument 3</td>\n",
       "      <td>1</td>\n",
       "    </tr>\n",
       "    <tr>\n",
       "      <th>11390</th>\n",
       "      <td>Hospital 998</td>\n",
       "      <td>District 20</td>\n",
       "      <td>Instrument 2</td>\n",
       "      <td>1</td>\n",
       "    </tr>\n",
       "    <tr>\n",
       "      <th>11391</th>\n",
       "      <td>Hospital 998</td>\n",
       "      <td>District 20</td>\n",
       "      <td>Instrument 3</td>\n",
       "      <td>1</td>\n",
       "    </tr>\n",
       "    <tr>\n",
       "      <th>11392</th>\n",
       "      <td>Hospital 998</td>\n",
       "      <td>District 20</td>\n",
       "      <td>Instrument 4</td>\n",
       "      <td>1</td>\n",
       "    </tr>\n",
       "    <tr>\n",
       "      <th>11393</th>\n",
       "      <td>Hospital 998</td>\n",
       "      <td>District 34</td>\n",
       "      <td>Instrument 2</td>\n",
       "      <td>1</td>\n",
       "    </tr>\n",
       "    <tr>\n",
       "      <th>11394</th>\n",
       "      <td>Hospital 998</td>\n",
       "      <td>District 34</td>\n",
       "      <td>Instrument 3</td>\n",
       "      <td>1</td>\n",
       "    </tr>\n",
       "    <tr>\n",
       "      <th>11395</th>\n",
       "      <td>Hospital 998</td>\n",
       "      <td>District 39</td>\n",
       "      <td>Instrument 2</td>\n",
       "      <td>1</td>\n",
       "    </tr>\n",
       "    <tr>\n",
       "      <th>11396</th>\n",
       "      <td>Hospital 998</td>\n",
       "      <td>District 39</td>\n",
       "      <td>Instrument 3</td>\n",
       "      <td>1</td>\n",
       "    </tr>\n",
       "    <tr>\n",
       "      <th>11397</th>\n",
       "      <td>Hospital 998</td>\n",
       "      <td>District 39</td>\n",
       "      <td>Instrument 4</td>\n",
       "      <td>1</td>\n",
       "    </tr>\n",
       "    <tr>\n",
       "      <th>11398</th>\n",
       "      <td>Hospital 998</td>\n",
       "      <td>District 41</td>\n",
       "      <td>Instrument 2</td>\n",
       "      <td>1</td>\n",
       "    </tr>\n",
       "    <tr>\n",
       "      <th>11399</th>\n",
       "      <td>Hospital 998</td>\n",
       "      <td>District 41</td>\n",
       "      <td>Instrument 3</td>\n",
       "      <td>1</td>\n",
       "    </tr>\n",
       "    <tr>\n",
       "      <th>11400</th>\n",
       "      <td>Hospital 998</td>\n",
       "      <td>District 41</td>\n",
       "      <td>Instrument 4</td>\n",
       "      <td>1</td>\n",
       "    </tr>\n",
       "    <tr>\n",
       "      <th>11401</th>\n",
       "      <td>Hospital 998</td>\n",
       "      <td>District 50</td>\n",
       "      <td>Instrument 3</td>\n",
       "      <td>1</td>\n",
       "    </tr>\n",
       "    <tr>\n",
       "      <th>11402</th>\n",
       "      <td>Hospital 999</td>\n",
       "      <td>District 13</td>\n",
       "      <td>Instrument 2</td>\n",
       "      <td>1</td>\n",
       "    </tr>\n",
       "    <tr>\n",
       "      <th>11403</th>\n",
       "      <td>Hospital 999</td>\n",
       "      <td>District 13</td>\n",
       "      <td>Instrument 3</td>\n",
       "      <td>1</td>\n",
       "    </tr>\n",
       "    <tr>\n",
       "      <th>11404</th>\n",
       "      <td>Hospital 999</td>\n",
       "      <td>District 13</td>\n",
       "      <td>Instrument 7</td>\n",
       "      <td>1</td>\n",
       "    </tr>\n",
       "    <tr>\n",
       "      <th>11405</th>\n",
       "      <td>Hospital 999</td>\n",
       "      <td>District 20</td>\n",
       "      <td>Instrument 2</td>\n",
       "      <td>1</td>\n",
       "    </tr>\n",
       "    <tr>\n",
       "      <th>11406</th>\n",
       "      <td>Hospital 999</td>\n",
       "      <td>District 20</td>\n",
       "      <td>Instrument 3</td>\n",
       "      <td>1</td>\n",
       "    </tr>\n",
       "    <tr>\n",
       "      <th>11407</th>\n",
       "      <td>Hospital 999</td>\n",
       "      <td>District 20</td>\n",
       "      <td>Instrument 7</td>\n",
       "      <td>1</td>\n",
       "    </tr>\n",
       "    <tr>\n",
       "      <th>11408</th>\n",
       "      <td>Hospital 999</td>\n",
       "      <td>District 50</td>\n",
       "      <td>Instrument 2</td>\n",
       "      <td>1</td>\n",
       "    </tr>\n",
       "    <tr>\n",
       "      <th>11409</th>\n",
       "      <td>Hospital 999</td>\n",
       "      <td>District 50</td>\n",
       "      <td>Instrument 3</td>\n",
       "      <td>1</td>\n",
       "    </tr>\n",
       "  </tbody>\n",
       "</table>\n",
       "<p>11410 rows × 4 columns</p>\n",
       "</div>"
      ],
      "text/plain": [
       "         Hospital_ID  District_ID  Instrument_ID  count\n",
       "0         Hospital 1  District 13   Instrument 2      1\n",
       "1         Hospital 1  District 13   Instrument 3      1\n",
       "2         Hospital 1  District 13   Instrument 4      1\n",
       "3         Hospital 1  District 13   Instrument 7      1\n",
       "4         Hospital 1   District 2   Instrument 2      1\n",
       "5         Hospital 1   District 2   Instrument 3      1\n",
       "6         Hospital 1  District 20   Instrument 2      1\n",
       "7         Hospital 1  District 20   Instrument 3      1\n",
       "8         Hospital 1  District 20   Instrument 4      1\n",
       "9         Hospital 1  District 20   Instrument 7      1\n",
       "10        Hospital 1  District 20   Instrument 8      1\n",
       "11        Hospital 1  District 41   Instrument 2      1\n",
       "12        Hospital 1  District 41   Instrument 3      1\n",
       "13        Hospital 1  District 41   Instrument 4      1\n",
       "14        Hospital 1  District 41   Instrument 7      1\n",
       "15        Hospital 1  District 50   Instrument 2      1\n",
       "16        Hospital 1  District 50   Instrument 3      1\n",
       "17        Hospital 1  District 50   Instrument 4      1\n",
       "18     Hospital 1000  District 39   Instrument 3      1\n",
       "19     Hospital 1000  District 50   Instrument 2      1\n",
       "20     Hospital 1000  District 50   Instrument 3      1\n",
       "21     Hospital 1000  District 50   Instrument 4      1\n",
       "22     Hospital 1001  District 13   Instrument 2      1\n",
       "23     Hospital 1001  District 13   Instrument 5      1\n",
       "24     Hospital 1001  District 20   Instrument 3      1\n",
       "25     Hospital 1001  District 41   Instrument 2      1\n",
       "26     Hospital 1001  District 41   Instrument 3      1\n",
       "27     Hospital 1001  District 41   Instrument 4      1\n",
       "28     Hospital 1001  District 41   Instrument 7      1\n",
       "29     Hospital 1003  District 10   Instrument 2      1\n",
       "...              ...          ...            ...    ...\n",
       "11380   Hospital 997  District 41   Instrument 2      1\n",
       "11381   Hospital 997  District 41   Instrument 3      1\n",
       "11382   Hospital 997  District 41   Instrument 5      1\n",
       "11383   Hospital 997  District 41   Instrument 7      1\n",
       "11384   Hospital 997  District 50  Instrument 18      1\n",
       "11385   Hospital 998  District 13   Instrument 2      1\n",
       "11386   Hospital 998  District 13   Instrument 3      1\n",
       "11387   Hospital 998  District 13   Instrument 4      1\n",
       "11388   Hospital 998  District 18   Instrument 2      1\n",
       "11389   Hospital 998  District 18   Instrument 3      1\n",
       "11390   Hospital 998  District 20   Instrument 2      1\n",
       "11391   Hospital 998  District 20   Instrument 3      1\n",
       "11392   Hospital 998  District 20   Instrument 4      1\n",
       "11393   Hospital 998  District 34   Instrument 2      1\n",
       "11394   Hospital 998  District 34   Instrument 3      1\n",
       "11395   Hospital 998  District 39   Instrument 2      1\n",
       "11396   Hospital 998  District 39   Instrument 3      1\n",
       "11397   Hospital 998  District 39   Instrument 4      1\n",
       "11398   Hospital 998  District 41   Instrument 2      1\n",
       "11399   Hospital 998  District 41   Instrument 3      1\n",
       "11400   Hospital 998  District 41   Instrument 4      1\n",
       "11401   Hospital 998  District 50   Instrument 3      1\n",
       "11402   Hospital 999  District 13   Instrument 2      1\n",
       "11403   Hospital 999  District 13   Instrument 3      1\n",
       "11404   Hospital 999  District 13   Instrument 7      1\n",
       "11405   Hospital 999  District 20   Instrument 2      1\n",
       "11406   Hospital 999  District 20   Instrument 3      1\n",
       "11407   Hospital 999  District 20   Instrument 7      1\n",
       "11408   Hospital 999  District 50   Instrument 2      1\n",
       "11409   Hospital 999  District 50   Instrument 3      1\n",
       "\n",
       "[11410 rows x 4 columns]"
      ]
     },
     "execution_count": 155,
     "metadata": {},
     "output_type": "execute_result"
    }
   ],
   "source": [
    "unique_projects = pd.DataFrame({'count' : proj_rev.groupby( [ \"Hospital_ID\", \"District_ID\", \"Instrument_ID\"] ).size()}).reset_index()\n",
    "unique_projects"
   ]
  },
  {
   "cell_type": "code",
   "execution_count": 153,
   "metadata": {
    "collapsed": false
   },
   "outputs": [
    {
     "data": {
      "text/plain": [
       "(11410, 6)"
      ]
     },
     "execution_count": 153,
     "metadata": {},
     "output_type": "execute_result"
    }
   ],
   "source": [
    "proj_rev.shape"
   ]
  },
  {
   "cell_type": "markdown",
   "metadata": {},
   "source": [
    "As group by column also returns same no of rows as of dataframe, shows \"Hospital_ID\", \"District_ID\", \"Instrument_ID\" is primary key"
   ]
  },
  {
   "cell_type": "code",
   "execution_count": 169,
   "metadata": {
    "collapsed": false
   },
   "outputs": [
    {
     "data": {
      "text/plain": [
       "0        False\n",
       "1        False\n",
       "2        False\n",
       "3        False\n",
       "4        False\n",
       "5        False\n",
       "6        False\n",
       "7        False\n",
       "8        False\n",
       "9        False\n",
       "10       False\n",
       "11       False\n",
       "12       False\n",
       "13       False\n",
       "14       False\n",
       "15       False\n",
       "16       False\n",
       "17       False\n",
       "18       False\n",
       "19       False\n",
       "20       False\n",
       "21       False\n",
       "22       False\n",
       "23       False\n",
       "24       False\n",
       "25       False\n",
       "26       False\n",
       "27       False\n",
       "28       False\n",
       "29       False\n",
       "         ...  \n",
       "44323    False\n",
       "44324    False\n",
       "44325    False\n",
       "44326    False\n",
       "44327    False\n",
       "44328    False\n",
       "44329    False\n",
       "44330    False\n",
       "44331    False\n",
       "44332    False\n",
       "44333    False\n",
       "44334    False\n",
       "44335    False\n",
       "44336    False\n",
       "44337    False\n",
       "44338    False\n",
       "44339    False\n",
       "44340    False\n",
       "44341    False\n",
       "44342    False\n",
       "44343    False\n",
       "44344    False\n",
       "44345    False\n",
       "44346    False\n",
       "44347    False\n",
       "44348    False\n",
       "44349    False\n",
       "44350    False\n",
       "44351    False\n",
       "44352    False\n",
       "Name: count, dtype: bool"
      ]
     },
     "execution_count": 169,
     "metadata": {},
     "output_type": "execute_result"
    }
   ],
   "source": [
    "unique_hospital_revenue = pd.DataFrame({'count' : h_rev.groupby( [ \"Hospital_ID\", \"District_ID\", \"Instrument_ID\"] ).size()}).reset_index()\n",
    "unique_hospital_revenue['count'] >1"
   ]
  },
  {
   "cell_type": "code",
   "execution_count": 162,
   "metadata": {
    "collapsed": false
   },
   "outputs": [
    {
     "data": {
      "text/plain": [
       "0"
      ]
     },
     "execution_count": 162,
     "metadata": {},
     "output_type": "execute_result"
    }
   ],
   "source": [
    "set(h_rev) \n",
    "set(proj_rev)\n",
    "len([i for i in set(proj_rev[\"Hospital_ID\"]) if i not in set(h_rev[\"Hospital_ID\"])])"
   ]
  },
  {
   "cell_type": "code",
   "execution_count": null,
   "metadata": {
    "collapsed": true
   },
   "outputs": [],
   "source": []
  }
 ],
 "metadata": {
  "anaconda-cloud": {},
  "kernelspec": {
   "display_name": "Python [Root]",
   "language": "python",
   "name": "Python [Root]"
  },
  "language_info": {
   "codemirror_mode": {
    "name": "ipython",
    "version": 3
   },
   "file_extension": ".py",
   "mimetype": "text/x-python",
   "name": "python",
   "nbconvert_exporter": "python",
   "pygments_lexer": "ipython3",
   "version": "3.5.1"
  }
 },
 "nbformat": 4,
 "nbformat_minor": 0
}
