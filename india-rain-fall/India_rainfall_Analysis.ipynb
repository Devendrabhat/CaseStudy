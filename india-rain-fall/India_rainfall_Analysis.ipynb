{
 "cells": [
  {
   "cell_type": "markdown",
   "metadata": {},
   "source": [
    "# Rainfall in IndiaSub-division wise monthly \n",
    "#### rainfall data for 115 years from 1901-2015"
   ]
  },
  {
   "cell_type": "code",
   "execution_count": 23,
   "metadata": {
    "collapsed": true
   },
   "outputs": [],
   "source": [
    "import pandas as pd\n",
    "import matplotlib.pyplot as plt\n",
    "import bokeh"
   ]
  },
  {
   "cell_type": "code",
   "execution_count": 22,
   "metadata": {
    "collapsed": true
   },
   "outputs": [],
   "source": [
    "%matplotlib inline"
   ]
  },
  {
   "cell_type": "code",
   "execution_count": 5,
   "metadata": {
    "collapsed": true
   },
   "outputs": [],
   "source": [
    "data = pd.read_csv('rainfall_in_india_1901-2015.csv')"
   ]
  },
  {
   "cell_type": "code",
   "execution_count": 7,
   "metadata": {
    "collapsed": false
   },
   "outputs": [
    {
     "data": {
      "text/plain": [
       "(4116, 19)"
      ]
     },
     "execution_count": 7,
     "metadata": {},
     "output_type": "execute_result"
    }
   ],
   "source": [
    "data.shape"
   ]
  },
  {
   "cell_type": "markdown",
   "metadata": {},
   "source": [
    "There are total 4116 entries for all years with sub division"
   ]
  },
  {
   "cell_type": "code",
   "execution_count": 10,
   "metadata": {
    "collapsed": false
   },
   "outputs": [
    {
     "data": {
      "text/plain": [
       "Index(['SUBDIVISION', 'YEAR', 'JAN', 'FEB', 'MAR', 'APR', 'MAY', 'JUN', 'JUL',\n",
       "       'AUG', 'SEP', 'OCT', 'NOV', 'DEC', 'ANNUAL', 'Jan-Feb', 'Mar-May',\n",
       "       'Jun-Sep', 'Oct-Dec'],\n",
       "      dtype='object')"
      ]
     },
     "execution_count": 10,
     "metadata": {},
     "output_type": "execute_result"
    }
   ],
   "source": [
    "data.columns"
   ]
  },
  {
   "cell_type": "code",
   "execution_count": 15,
   "metadata": {
    "collapsed": false
   },
   "outputs": [
    {
     "data": {
      "text/plain": [
       "SUBDIVISION     object\n",
       "YEAR             int64\n",
       "JAN            float64\n",
       "FEB            float64\n",
       "MAR            float64\n",
       "APR            float64\n",
       "MAY            float64\n",
       "JUN            float64\n",
       "JUL            float64\n",
       "AUG            float64\n",
       "SEP            float64\n",
       "OCT            float64\n",
       "NOV            float64\n",
       "DEC            float64\n",
       "ANNUAL         float64\n",
       "Jan-Feb        float64\n",
       "Mar-May        float64\n",
       "Jun-Sep        float64\n",
       "Oct-Dec        float64\n",
       "dtype: object"
      ]
     },
     "execution_count": 15,
     "metadata": {},
     "output_type": "execute_result"
    }
   ],
   "source": [
    "data.dtypes"
   ]
  },
  {
   "cell_type": "markdown",
   "metadata": {},
   "source": [
    "SUBDIVISION - Text column Can be converted to class\n",
    "YEAR - Though numeric should be converted to class\n"
   ]
  },
  {
   "cell_type": "code",
   "execution_count": 16,
   "metadata": {
    "collapsed": true
   },
   "outputs": [],
   "source": [
    "data['YEAR'] = data.YEAR.astype(object)"
   ]
  },
  {
   "cell_type": "code",
   "execution_count": 17,
   "metadata": {
    "collapsed": false
   },
   "outputs": [
    {
     "data": {
      "text/html": [
       "<div>\n",
       "<table border=\"1\" class=\"dataframe\">\n",
       "  <thead>\n",
       "    <tr style=\"text-align: right;\">\n",
       "      <th></th>\n",
       "      <th>SUBDIVISION</th>\n",
       "      <th>YEAR</th>\n",
       "    </tr>\n",
       "  </thead>\n",
       "  <tbody>\n",
       "    <tr>\n",
       "      <th>count</th>\n",
       "      <td>4116</td>\n",
       "      <td>4116</td>\n",
       "    </tr>\n",
       "    <tr>\n",
       "      <th>unique</th>\n",
       "      <td>36</td>\n",
       "      <td>115</td>\n",
       "    </tr>\n",
       "    <tr>\n",
       "      <th>top</th>\n",
       "      <td>EAST UTTAR PRADESH</td>\n",
       "      <td>2015</td>\n",
       "    </tr>\n",
       "    <tr>\n",
       "      <th>freq</th>\n",
       "      <td>115</td>\n",
       "      <td>36</td>\n",
       "    </tr>\n",
       "  </tbody>\n",
       "</table>\n",
       "</div>"
      ],
      "text/plain": [
       "               SUBDIVISION  YEAR\n",
       "count                 4116  4116\n",
       "unique                  36   115\n",
       "top     EAST UTTAR PRADESH  2015\n",
       "freq                   115    36"
      ]
     },
     "execution_count": 17,
     "metadata": {},
     "output_type": "execute_result"
    }
   ],
   "source": [
    "data.describe(include=['O'])"
   ]
  },
  {
   "cell_type": "markdown",
   "metadata": {},
   "source": [
    "As mentioned in problem statement data is of 115 years\n",
    "\n",
    "And there are total 36 SUB DIVISIONS. EAST UTTAR PRADESH has maximum number of entries"
   ]
  },
  {
   "cell_type": "code",
   "execution_count": 18,
   "metadata": {
    "collapsed": false
   },
   "outputs": [
    {
     "data": {
      "text/plain": [
       "array(['ANDAMAN & NICOBAR ISLANDS', 'ARUNACHAL PRADESH',\n",
       "       'ASSAM & MEGHALAYA', 'NAGA MANI MIZO TRIPURA',\n",
       "       'SUB HIMALAYAN WEST BENGAL & SIKKIM', 'GANGETIC WEST BENGAL',\n",
       "       'ORISSA', 'JHARKHAND', 'BIHAR', 'EAST UTTAR PRADESH',\n",
       "       'WEST UTTAR PRADESH', 'UTTARAKHAND', 'HARYANA DELHI & CHANDIGARH',\n",
       "       'PUNJAB', 'HIMACHAL PRADESH', 'JAMMU & KASHMIR', 'WEST RAJASTHAN',\n",
       "       'EAST RAJASTHAN', 'WEST MADHYA PRADESH', 'EAST MADHYA PRADESH',\n",
       "       'GUJARAT REGION', 'SAURASHTRA & KUTCH', 'KONKAN & GOA',\n",
       "       'MADHYA MAHARASHTRA', 'MATATHWADA', 'VIDARBHA', 'CHHATTISGARH',\n",
       "       'COASTAL ANDHRA PRADESH', 'TELANGANA', 'RAYALSEEMA', 'TAMIL NADU',\n",
       "       'COASTAL KARNATAKA', 'NORTH INTERIOR KARNATAKA',\n",
       "       'SOUTH INTERIOR KARNATAKA', 'KERALA', 'LAKSHADWEEP'], dtype=object)"
      ]
     },
     "execution_count": 18,
     "metadata": {},
     "output_type": "execute_result"
    }
   ],
   "source": [
    "data.SUBDIVISION.unique()"
   ]
  },
  {
   "cell_type": "markdown",
   "metadata": {},
   "source": [
    "Let's plot JUNE for each subdivision for 1901 and 2015"
   ]
  },
  {
   "cell_type": "code",
   "execution_count": 26,
   "metadata": {
    "collapsed": true
   },
   "outputs": [],
   "source": [
    "JUN = data.groupby('YEAR')['JUN'].apply(list)"
   ]
  },
  {
   "cell_type": "code",
   "execution_count": 27,
   "metadata": {
    "collapsed": false
   },
   "outputs": [
    {
     "data": {
      "text/plain": [
       "YEAR\n",
       "1901    [517.5, 524.9, 443.3, 488.4, 198.0, 78.2, 70.9...\n",
       "1902    [537.1, 620.7, 480.1, 539.2, 140.9, 108.3, 89....\n",
       "1903    [479.9, 607.4, 458.6, 541.2, 201.7, 154.3, 142...\n",
       "1904    [495.1, 385.7, 455.3, 274.2, 286.7, 342.9, 308...\n",
       "1905    [628.7, 521.7, 339.7, 524.8, 70.9, 92.0, 41.5,...\n",
       "1906    [733.3, 388.4, 417.4, 438.0, 172.0, 219.0, 170...\n",
       "1907    [305.2, 509.8, 414.1, 408.1, 347.6, 226.3, 338...\n",
       "1908    [693.6, 390.8, 360.0, 368.6, 380.4, 218.7, 210...\n",
       "1909    [639.4, 415.3, 896.0, 335.0, 288.2, 314.0, 446...\n",
       "1910    [472.7, 582.5, 444.8, 833.7, 241.8, 258.8, 255...\n",
       "1911    [649.0, 534.0, 444.9, 575.4, 276.6, 351.6, 391...\n",
       "1912    [549.8, 482.7, 344.7, 397.8, 199.4, 113.0, 125...\n",
       "1913    [530.0, 458.6, 559.1, 736.9, 512.0, 230.0, 375...\n",
       "1914    [383.3, 403.9, 342.6, 402.2, 192.8, 255.8, 123...\n",
       "1915    [334.7, 509.1, 465.2, 352.7, 224.5, 165.1, 149...\n",
       "1916    [450.1, 1124.9, 367.3, 363.8, 649.0, 378.5, 33...\n",
       "1917    [301.1, 823.8, 584.7, 356.6, 619.4, 366.8, 336...\n",
       "1918    [710.8, 1609.9, 659.4, 573.8, 682.6, 374.6, 36...\n",
       "1919    [542.5, 973.6, 485.5, 358.4, 558.0, 306.0, 332...\n",
       "1920    [546.9, 840.6, 523.8, 363.3, 615.2, 127.8, 173...\n",
       "1921    [282.7, 1233.2, 604.9, 443.8, 589.2, 238.4, 21...\n",
       "1922    [506.1, 1109.3, 548.9, 569.1, 803.0, 553.0, 24...\n",
       "1923    [808.4, 408.6, 588.6, 506.2, 536.9, 154.3, 106...\n",
       "1924    [261.2, 1165.0, 473.9, 478.6, 693.1, 181.2, 95...\n",
       "1925    [663.8, 611.6, 330.8, 362.4, 554.1, 171.8, 353...\n",
       "1926    [370.0, 675.2, 559.3, 361.1, 580.8, 103.7, 71....\n",
       "1927    [433.3, 1045.4, 573.9, 363.8, 682.1, 227.7, 24...\n",
       "1928    [410.2, 1168.3, 420.6, 463.2, 527.8, 427.0, 26...\n",
       "1929    [588.8, 853.0, 643.4, 859.1, 594.0, 208.1, 193...\n",
       "1930    [533.6, 720.9, 686.9, 506.6, 495.1, 186.9, 177...\n",
       "                              ...                        \n",
       "1986    [312.2, 402.5, 404.2, 325.5, 436.4, 227.9, 291...\n",
       "1987    [343.7, 501.5, 525.8, 420.8, 451.0, 146.9, 112...\n",
       "1988    [357.4, 287.0, 403.8, 466.4, 304.9, 508.8, 247...\n",
       "1989    [414.9, 484.2, 488.8, 367.1, 551.3, 318.2, 332...\n",
       "1990    [291.0, 857.2, 513.8, 380.0, 554.7, 268.2, 237...\n",
       "1991    [165.7, 608.3, 517.8, 456.6, 691.4, 257.4, 149...\n",
       "1992    [392.0, 522.9, 450.9, 343.8, 328.1, 239.9, 177...\n",
       "1993    [257.1, 569.5, 619.5, 539.6, 449.6, 328.5, 257...\n",
       "1994    [386.3, 416.1, 477.6, 256.2, 388.0, 310.1, 299...\n",
       "1995    [450.4, 686.9, 663.3, 425.8, 859.0, 185.4, 112...\n",
       "1996    [559.2, 316.2, 397.7, 314.0, 334.6, 336.0, 211...\n",
       "1997    [199.5, 548.0, 569.9, 334.0, 613.3, 219.6, 197...\n",
       "1998    [600.0, 839.8, 581.2, 297.6, 653.0, 154.3, 176...\n",
       "1999    [295.0, 450.0, 429.0, 358.4, 550.5, 268.8, 222...\n",
       "2000    [357.0, 459.8, 540.2, 325.4, 649.6, 205.6, 233...\n",
       "2001    [370.7, 277.2, 399.8, 478.0, 472.2, 384.2, 336...\n",
       "2002    [358.3, 396.8, 502.5, 351.6, 407.2, 347.7, 182...\n",
       "2003    [159.9, 424.3, 551.4, 590.9, 516.6, 280.5, 178...\n",
       "2004    [423.9, 402.9, 397.9, 449.2, 489.5, 287.5, 216...\n",
       "2005    [452.4, 269.3, 373.9, 212.3, 446.5, 200.1, 199...\n",
       "2006    [366.0, 520.4, 395.9, 445.6, 446.2, 221.0, 175...\n",
       "2007    [378.3, 530.2, 489.7, 446.3, 485.1, 226.3, 321...\n",
       "2008    [457.8, 423.6, 414.6, 327.4, 526.5, 414.5, 343...\n",
       "2009    [633.5, 259.1, 321.1, 271.9, 350.6, 69.7, 87.3...\n",
       "2010    [448.9, 509.9, 569.7, 411.6, 558.1, 189.3, 146...\n",
       "2011    [383.2, 288.4, 316.0, 374.2, 419.8, 434.5, 210...\n",
       "2012    [458.2, 645.8, 729.7, 396.2, 604.2, 146.6, 169...\n",
       "2013    [777.0, 290.0, 286.2, 206.6, 404.9, 233.4, 272...\n",
       "2014    [416.6, 415.8, 426.4, 268.3, 543.2, 193.6, 92....\n",
       "2015    [346.4, 637.9, 558.5, 283.9, 508.2, 247.2, 238...\n",
       "Name: JUN, dtype: object"
      ]
     },
     "execution_count": 27,
     "metadata": {},
     "output_type": "execute_result"
    }
   ],
   "source": [
    "JUN"
   ]
  },
  {
   "cell_type": "code",
   "execution_count": 28,
   "metadata": {
    "collapsed": false
   },
   "outputs": [
    {
     "data": {
      "text/plain": [
       "pandas.core.series.Series"
      ]
     },
     "execution_count": 28,
     "metadata": {},
     "output_type": "execute_result"
    }
   ],
   "source": [
    "type(JUN)"
   ]
  },
  {
   "cell_type": "code",
   "execution_count": 54,
   "metadata": {
    "collapsed": false
   },
   "outputs": [],
   "source": [
    "year = list(range(1901,2016))"
   ]
  },
  {
   "cell_type": "code",
   "execution_count": 55,
   "metadata": {
    "collapsed": false
   },
   "outputs": [
    {
     "data": {
      "text/plain": [
       "[1901,\n",
       " 1902,\n",
       " 1903,\n",
       " 1904,\n",
       " 1905,\n",
       " 1906,\n",
       " 1907,\n",
       " 1908,\n",
       " 1909,\n",
       " 1910,\n",
       " 1911,\n",
       " 1912,\n",
       " 1913,\n",
       " 1914,\n",
       " 1915,\n",
       " 1916,\n",
       " 1917,\n",
       " 1918,\n",
       " 1919,\n",
       " 1920,\n",
       " 1921,\n",
       " 1922,\n",
       " 1923,\n",
       " 1924,\n",
       " 1925,\n",
       " 1926,\n",
       " 1927,\n",
       " 1928,\n",
       " 1929,\n",
       " 1930,\n",
       " 1931,\n",
       " 1932,\n",
       " 1933,\n",
       " 1934,\n",
       " 1935,\n",
       " 1936,\n",
       " 1937,\n",
       " 1938,\n",
       " 1939,\n",
       " 1940,\n",
       " 1941,\n",
       " 1942,\n",
       " 1943,\n",
       " 1944,\n",
       " 1945,\n",
       " 1946,\n",
       " 1947,\n",
       " 1948,\n",
       " 1949,\n",
       " 1950,\n",
       " 1951,\n",
       " 1952,\n",
       " 1953,\n",
       " 1954,\n",
       " 1955,\n",
       " 1956,\n",
       " 1957,\n",
       " 1958,\n",
       " 1959,\n",
       " 1960,\n",
       " 1961,\n",
       " 1962,\n",
       " 1963,\n",
       " 1964,\n",
       " 1965,\n",
       " 1966,\n",
       " 1967,\n",
       " 1968,\n",
       " 1969,\n",
       " 1970,\n",
       " 1971,\n",
       " 1972,\n",
       " 1973,\n",
       " 1974,\n",
       " 1975,\n",
       " 1976,\n",
       " 1977,\n",
       " 1978,\n",
       " 1979,\n",
       " 1980,\n",
       " 1981,\n",
       " 1982,\n",
       " 1983,\n",
       " 1984,\n",
       " 1985,\n",
       " 1986,\n",
       " 1987,\n",
       " 1988,\n",
       " 1989,\n",
       " 1990,\n",
       " 1991,\n",
       " 1992,\n",
       " 1993,\n",
       " 1994,\n",
       " 1995,\n",
       " 1996,\n",
       " 1997,\n",
       " 1998,\n",
       " 1999,\n",
       " 2000,\n",
       " 2001,\n",
       " 2002,\n",
       " 2003,\n",
       " 2004,\n",
       " 2005,\n",
       " 2006,\n",
       " 2007,\n",
       " 2008,\n",
       " 2009,\n",
       " 2010,\n",
       " 2011,\n",
       " 2012,\n",
       " 2013,\n",
       " 2014,\n",
       " 2015]"
      ]
     },
     "execution_count": 55,
     "metadata": {},
     "output_type": "execute_result"
    }
   ],
   "source": [
    "year"
   ]
  },
  {
   "cell_type": "code",
   "execution_count": 56,
   "metadata": {
    "collapsed": true
   },
   "outputs": [],
   "source": [
    "sum_of_rain = [sum(row) for row in JUN]"
   ]
  },
  {
   "cell_type": "code",
   "execution_count": 66,
   "metadata": {
    "collapsed": false
   },
   "outputs": [],
   "source": [
    "fig_size = [0,0]\n",
    "fig_size[0] = 15\n",
    "fig_size[1] = 9\n",
    "plt.rcParams[\"figure.figsize\"] = fig_size"
   ]
  },
  {
   "cell_type": "code",
   "execution_count": 67,
   "metadata": {
    "collapsed": false
   },
   "outputs": [
    {
     "data": {
      "text/plain": [
       "[<matplotlib.lines.Line2D at 0x7f16ece62d68>]"
      ]
     },
     "execution_count": 67,
     "metadata": {},
     "output_type": "execute_result"
    },
    {
     "data": {
      "image/png": "[encoded data removed]",
      "text/plain": [
       "<matplotlib.figure.Figure at 0x7f16ece80e80>"
      ]
     },
     "metadata": {},
     "output_type": "display_data"
    }
   ],
   "source": [
    "plt.plot( year, sum_of_rain)"
   ]
  },
  {
   "cell_type": "code",
   "execution_count": null,
   "metadata": {
    "collapsed": true
   },
   "outputs": [],
   "source": []
  }
 ],
 "metadata": {
  "anaconda-cloud": {},
  "kernelspec": {
   "display_name": "Python [conda root]",
   "language": "python",
   "name": "conda-root-py"
  },
  "language_info": {
   "codemirror_mode": {
    "name": "ipython",
    "version": 3
   },
   "file_extension": ".py",
   "mimetype": "text/x-python",
   "name": "python",
   "nbconvert_exporter": "python",
   "pygments_lexer": "ipython3",
   "version": "3.5.2"
  }
 },
 "nbformat": 4,
 "nbformat_minor": 1
}
