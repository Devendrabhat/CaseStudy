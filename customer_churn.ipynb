{
 "cells": [
  {
   "cell_type": "markdown",
   "metadata": {},
   "source": [
    "# Customer churn: weather he will go or not?"
   ]
  },
  {
   "cell_type": "code",
   "execution_count": 189,
   "metadata": {
    "collapsed": true
   },
   "outputs": [],
   "source": [
    "import pandas as pd\n",
    "import numpy as np"
   ]
  },
  {
   "cell_type": "code",
   "execution_count": 190,
   "metadata": {
    "collapsed": true
   },
   "outputs": [],
   "source": [
    "# read data\n",
    "churn_df = pd.read_csv('data/churn.csv')"
   ]
  },
  {
   "cell_type": "code",
   "execution_count": 191,
   "metadata": {
    "collapsed": false,
    "scrolled": true
   },
   "outputs": [
    {
     "data": {
      "text/plain": [
       "<bound method NDFrame.head of      State  Account Length  Area Code     Phone Int'l Plan VMail Plan  \\\n",
       "0       KS             128        415  382-4657         no        yes   \n",
       "1       OH             107        415  371-7191         no        yes   \n",
       "2       NJ             137        415  358-1921         no         no   \n",
       "3       OH              84        408  375-9999        yes         no   \n",
       "4       OK              75        415  330-6626        yes         no   \n",
       "5       AL             118        510  391-8027        yes         no   \n",
       "6       MA             121        510  355-9993         no        yes   \n",
       "7       MO             147        415  329-9001        yes         no   \n",
       "8       LA             117        408  335-4719         no         no   \n",
       "9       WV             141        415  330-8173        yes        yes   \n",
       "10      IN              65        415  329-6603         no         no   \n",
       "11      RI              74        415  344-9403         no         no   \n",
       "12      IA             168        408  363-1107         no         no   \n",
       "13      MT              95        510  394-8006         no         no   \n",
       "14      IA              62        415  366-9238         no         no   \n",
       "15      NY             161        415  351-7269         no         no   \n",
       "16      ID              85        408  350-8884         no        yes   \n",
       "17      VT              93        510  386-2923         no         no   \n",
       "18      VA              76        510  356-2992         no        yes   \n",
       "19      TX              73        415  373-2782         no         no   \n",
       "20      FL             147        415  396-5800         no         no   \n",
       "21      CO              77        408  393-7984         no         no   \n",
       "22      AZ             130        415  358-1958         no         no   \n",
       "23      SC             111        415  350-2565         no         no   \n",
       "24      VA             132        510  343-4696         no         no   \n",
       "25      NE             174        415  331-3698         no         no   \n",
       "26      WY              57        408  357-3817         no        yes   \n",
       "27      MT              54        408  418-6412         no         no   \n",
       "28      MO              20        415  353-2630         no         no   \n",
       "29      HI              49        510  410-7789         no         no   \n",
       "...    ...             ...        ...       ...        ...        ...   \n",
       "3303    WI             114        415  373-7308         no        yes   \n",
       "3304    IL              71        510  330-7137        yes         no   \n",
       "3305    IN              58        415  406-8445         no        yes   \n",
       "3306    AL             106        408  404-5283         no        yes   \n",
       "3307    OK             172        408  398-3632         no         no   \n",
       "3308    IA              45        415  399-5763         no         no   \n",
       "3309    VT             100        408  340-9449        yes         no   \n",
       "3310    NY              94        415  363-1123         no         no   \n",
       "3311    LA             128        415  361-2170         no         no   \n",
       "3312    SC             181        408  406-6304         no         no   \n",
       "3313    ID             127        408  392-5090         no         no   \n",
       "3314    MO              89        415  373-7713         no         no   \n",
       "3315    ME             149        415  392-1376         no        yes   \n",
       "3316    MS             103        510  390-6388         no        yes   \n",
       "3317    SD             163        415  379-7290        yes         no   \n",
       "3318    OK              52        415  397-9928         no         no   \n",
       "3319    WY              89        415  378-6924         no         no   \n",
       "3320    GA             122        510  411-5677        yes         no   \n",
       "3321    VT              60        415  400-2738         no         no   \n",
       "3322    MD              62        408  409-1856         no         no   \n",
       "3323    IN             117        415  362-5899         no         no   \n",
       "3324    WV             159        415  377-1164         no         no   \n",
       "3325    OH              78        408  368-8555         no         no   \n",
       "3326    OH              96        415  347-6812         no         no   \n",
       "3327    SC              79        415  348-3830         no         no   \n",
       "3328    AZ             192        415  414-4276         no        yes   \n",
       "3329    WV              68        415  370-3271         no         no   \n",
       "3330    RI              28        510  328-8230         no         no   \n",
       "3331    CT             184        510  364-6381        yes         no   \n",
       "3332    TN              74        415  400-4344         no        yes   \n",
       "\n",
       "      VMail Message  Day Mins  Day Calls  Day Charge   ...    Eve Calls  \\\n",
       "0                25     265.1        110       45.07   ...           99   \n",
       "1                26     161.6        123       27.47   ...          103   \n",
       "2                 0     243.4        114       41.38   ...          110   \n",
       "3                 0     299.4         71       50.90   ...           88   \n",
       "4                 0     166.7        113       28.34   ...          122   \n",
       "5                 0     223.4         98       37.98   ...          101   \n",
       "6                24     218.2         88       37.09   ...          108   \n",
       "7                 0     157.0         79       26.69   ...           94   \n",
       "8                 0     184.5         97       31.37   ...           80   \n",
       "9                37     258.6         84       43.96   ...          111   \n",
       "10                0     129.1        137       21.95   ...           83   \n",
       "11                0     187.7        127       31.91   ...          148   \n",
       "12                0     128.8         96       21.90   ...           71   \n",
       "13                0     156.6         88       26.62   ...           75   \n",
       "14                0     120.7         70       20.52   ...           76   \n",
       "15                0     332.9         67       56.59   ...           97   \n",
       "16               27     196.4        139       33.39   ...           90   \n",
       "17                0     190.7        114       32.42   ...          111   \n",
       "18               33     189.7         66       32.25   ...           65   \n",
       "19                0     224.4         90       38.15   ...           88   \n",
       "20                0     155.1        117       26.37   ...           93   \n",
       "21                0      62.4         89       10.61   ...          121   \n",
       "22                0     183.0        112       31.11   ...           99   \n",
       "23                0     110.4        103       18.77   ...          102   \n",
       "24                0      81.1         86       13.79   ...           72   \n",
       "25                0     124.3         76       21.13   ...          112   \n",
       "26               39     213.0        115       36.21   ...          112   \n",
       "27                0     134.3         73       22.83   ...          100   \n",
       "28                0     190.0        109       32.30   ...           84   \n",
       "29                0     119.3        117       20.28   ...          109   \n",
       "...             ...       ...        ...         ...   ...          ...   \n",
       "3303             26     137.1         88       23.31   ...          125   \n",
       "3304              0     186.1        114       31.64   ...          140   \n",
       "3305             22     224.1        127       38.10   ...           85   \n",
       "3306             29      83.6        131       14.21   ...          131   \n",
       "3307              0     203.9        109       34.66   ...          123   \n",
       "3308              0     211.3         87       35.92   ...           97   \n",
       "3309              0     219.4        112       37.30   ...          102   \n",
       "3310              0     190.4         91       32.37   ...          107   \n",
       "3311              0     147.7         94       25.11   ...           83   \n",
       "3312              0     229.9        130       39.08   ...           93   \n",
       "3313              0     102.8        128       17.48   ...           95   \n",
       "3314              0     178.7         81       30.38   ...           74   \n",
       "3315             18     148.5        106       25.25   ...          106   \n",
       "3316             29     164.1        111       27.90   ...           96   \n",
       "3317              0     197.2         90       33.52   ...          113   \n",
       "3318              0     124.9        131       21.23   ...          118   \n",
       "3319              0     115.4         99       19.62   ...          115   \n",
       "3320              0     140.0        101       23.80   ...           77   \n",
       "3321              0     193.9        118       32.96   ...          110   \n",
       "3322              0     321.1        105       54.59   ...          122   \n",
       "3323              0     118.4        126       20.13   ...           97   \n",
       "3324              0     169.8        114       28.87   ...          105   \n",
       "3325              0     193.4         99       32.88   ...           88   \n",
       "3326              0     106.6        128       18.12   ...           87   \n",
       "3327              0     134.7         98       22.90   ...           68   \n",
       "3328             36     156.2         77       26.55   ...          126   \n",
       "3329              0     231.1         57       39.29   ...           55   \n",
       "3330              0     180.8        109       30.74   ...           58   \n",
       "3331              0     213.8        105       36.35   ...           84   \n",
       "3332             25     234.4        113       39.85   ...           82   \n",
       "\n",
       "      Eve Charge  Night Mins  Night Calls  Night Charge  Intl Mins  \\\n",
       "0          16.78       244.7           91         11.01       10.0   \n",
       "1          16.62       254.4          103         11.45       13.7   \n",
       "2          10.30       162.6          104          7.32       12.2   \n",
       "3           5.26       196.9           89          8.86        6.6   \n",
       "4          12.61       186.9          121          8.41       10.1   \n",
       "5          18.75       203.9          118          9.18        6.3   \n",
       "6          29.62       212.6          118          9.57        7.5   \n",
       "7           8.76       211.8           96          9.53        7.1   \n",
       "8          29.89       215.8           90          9.71        8.7   \n",
       "9          18.87       326.4           97         14.69       11.2   \n",
       "10         19.42       208.8          111          9.40       12.7   \n",
       "11         13.89       196.0           94          8.82        9.1   \n",
       "12          8.92       141.1          128          6.35       11.2   \n",
       "13         21.05       192.3          115          8.65       12.3   \n",
       "14         26.11       203.0           99          9.14       13.1   \n",
       "15         27.01       160.6          128          7.23        5.4   \n",
       "16         23.88        89.3           75          4.02       13.8   \n",
       "17         18.55       129.6          121          5.83        8.1   \n",
       "18         18.09       165.7          108          7.46       10.0   \n",
       "19         13.56       192.8           74          8.68       13.0   \n",
       "20         20.37       208.8          133          9.40       10.6   \n",
       "21         14.44       209.6           64          9.43        5.7   \n",
       "22          6.20       181.8           78          8.18        9.5   \n",
       "23         11.67       189.6          105          8.53        7.7   \n",
       "24         20.84       237.0          115         10.67       10.3   \n",
       "25         23.55       250.7          115         11.28       15.5   \n",
       "26         16.24       182.7          115          8.22        9.5   \n",
       "27         13.22       102.1           68          4.59       14.7   \n",
       "28         21.95       181.5          102          8.17        6.3   \n",
       "29         18.28       178.7           90          8.04       11.1   \n",
       "...          ...         ...          ...           ...        ...   \n",
       "3303       13.23       247.6           94         11.14       11.5   \n",
       "3304       16.88       206.5           80          9.29       13.8   \n",
       "3305       20.30       174.2           86          7.84       11.5   \n",
       "3306       17.33       229.5           73         10.33        8.1   \n",
       "3307       19.89       160.7           65          7.23       17.8   \n",
       "3308       14.08       265.9           72         11.97       13.3   \n",
       "3309       19.18       255.3           95         11.49       12.0   \n",
       "3310        7.82       224.8          108         10.12       13.6   \n",
       "3311       24.08       188.3          124          8.47        6.9   \n",
       "3312       12.27       262.4          110         11.81       14.2   \n",
       "3313       12.21       191.4           97          8.61       10.0   \n",
       "3314       19.86       131.9          120          5.94        9.1   \n",
       "3315        9.73       178.3           98          8.02        6.5   \n",
       "3316       18.62       220.3          108          9.91       12.3   \n",
       "3317       16.02       211.1           94          9.50        7.8   \n",
       "3318       25.54       192.5          106          8.66       11.6   \n",
       "3319       17.84       280.9          112         12.64       15.9   \n",
       "3320       16.69       120.1          133          5.40        9.7   \n",
       "3321        7.23       210.1          134          9.45       13.2   \n",
       "3322       22.57       180.5           72          8.12       11.5   \n",
       "3323       21.19       227.0           56         10.22       13.6   \n",
       "3324       16.80       193.7           82          8.72       11.6   \n",
       "3325        9.94       243.3          109         10.95        9.3   \n",
       "3326       24.21       178.9           92          8.05       14.9   \n",
       "3327       16.12       221.4          128          9.96       11.8   \n",
       "3328       18.32       279.1           83         12.56        9.9   \n",
       "3329       13.04       191.3          123          8.61        9.6   \n",
       "3330       24.55       191.9           91          8.64       14.1   \n",
       "3331       13.57       139.2          137          6.26        5.0   \n",
       "3332       22.60       241.4           77         10.86       13.7   \n",
       "\n",
       "      Intl Calls  Intl Charge  CustServ Calls  Churn?  \n",
       "0              3         2.70               1  False.  \n",
       "1              3         3.70               1  False.  \n",
       "2              5         3.29               0  False.  \n",
       "3              7         1.78               2  False.  \n",
       "4              3         2.73               3  False.  \n",
       "5              6         1.70               0  False.  \n",
       "6              7         2.03               3  False.  \n",
       "7              6         1.92               0  False.  \n",
       "8              4         2.35               1  False.  \n",
       "9              5         3.02               0  False.  \n",
       "10             6         3.43               4   True.  \n",
       "11             5         2.46               0  False.  \n",
       "12             2         3.02               1  False.  \n",
       "13             5         3.32               3  False.  \n",
       "14             6         3.54               4  False.  \n",
       "15             9         1.46               4   True.  \n",
       "16             4         3.73               1  False.  \n",
       "17             3         2.19               3  False.  \n",
       "18             5         2.70               1  False.  \n",
       "19             2         3.51               1  False.  \n",
       "20             4         2.86               0  False.  \n",
       "21             6         1.54               5   True.  \n",
       "22            19         2.57               0  False.  \n",
       "23             6         2.08               2  False.  \n",
       "24             2         2.78               0  False.  \n",
       "25             5         4.19               3  False.  \n",
       "26             3         2.57               0  False.  \n",
       "27             4         3.97               3  False.  \n",
       "28             6         1.70               0  False.  \n",
       "29             1         3.00               1  False.  \n",
       "...          ...          ...             ...     ...  \n",
       "3303           7         3.11               2  False.  \n",
       "3304           5         3.73               4   True.  \n",
       "3305           7         3.11               2  False.  \n",
       "3306           3         2.19               1  False.  \n",
       "3307           4         4.81               4  False.  \n",
       "3308           6         3.59               1  False.  \n",
       "3309           4         3.24               4  False.  \n",
       "3310          17         3.67               2  False.  \n",
       "3311           5         1.86               2  False.  \n",
       "3312           4         3.83               2  False.  \n",
       "3313           5         2.70               1  False.  \n",
       "3314           4         2.46               1  False.  \n",
       "3315           4         1.76               0  False.  \n",
       "3316           9         3.32               0  False.  \n",
       "3317           8         2.11               1  False.  \n",
       "3318           4         3.13               2  False.  \n",
       "3319           6         4.29               3  False.  \n",
       "3320           4         2.62               4   True.  \n",
       "3321           8         3.56               3  False.  \n",
       "3322           2         3.11               4   True.  \n",
       "3323           3         3.67               5   True.  \n",
       "3324           4         3.13               1  False.  \n",
       "3325           4         2.51               2  False.  \n",
       "3326           7         4.02               1  False.  \n",
       "3327           5         3.19               2  False.  \n",
       "3328           6         2.67               2  False.  \n",
       "3329           4         2.59               3  False.  \n",
       "3330           6         3.81               2  False.  \n",
       "3331          10         1.35               2  False.  \n",
       "3332           4         3.70               0  False.  \n",
       "\n",
       "[3333 rows x 21 columns]>"
      ]
     },
     "execution_count": 191,
     "metadata": {},
     "output_type": "execute_result"
    }
   ],
   "source": [
    "churn_df.head"
   ]
  },
  {
   "cell_type": "code",
   "execution_count": 192,
   "metadata": {
    "collapsed": false
   },
   "outputs": [
    {
     "name": "stdout",
     "output_type": "stream",
     "text": [
      "Coulmn Names are : \n",
      "Index(['State', 'Account Length', 'Area Code', 'Phone', 'Int'l Plan',\n",
      "       'VMail Plan', 'VMail Message', 'Day Mins', 'Day Calls', 'Day Charge',\n",
      "       'Eve Mins', 'Eve Calls', 'Eve Charge', 'Night Mins', 'Night Calls',\n",
      "       'Night Charge', 'Intl Mins', 'Intl Calls', 'Intl Charge',\n",
      "       'CustServ Calls', 'Churn?'],\n",
      "      dtype='object')\n",
      "number of column are  21\n"
     ]
    }
   ],
   "source": [
    "col_names = churn_df.columns\n",
    "print('Coulmn Names are : ')\n",
    "print(col_names)\n",
    "print('number of column are ', len(col_names))"
   ]
  },
  {
   "cell_type": "code",
   "execution_count": 193,
   "metadata": {
    "collapsed": false
   },
   "outputs": [
    {
     "name": "stdout",
     "output_type": "stream",
     "text": [
      "Dimensions of data are :  (3333, 21)\n"
     ]
    }
   ],
   "source": [
    "print('Dimensions of data are : ', churn_df.shape)"
   ]
  },
  {
   "cell_type": "markdown",
   "metadata": {},
   "source": [
    "Till now we got data dimensions\n",
    "\n",
    "Nows lets work on feature engineering"
   ]
  },
  {
   "cell_type": "code",
   "execution_count": 194,
   "metadata": {
    "collapsed": false
   },
   "outputs": [
    {
     "data": {
      "text/plain": [
       "State              object\n",
       "Account Length      int64\n",
       "Area Code           int64\n",
       "Phone              object\n",
       "Int'l Plan         object\n",
       "VMail Plan         object\n",
       "VMail Message       int64\n",
       "Day Mins          float64\n",
       "Day Calls           int64\n",
       "Day Charge        float64\n",
       "Eve Mins          float64\n",
       "Eve Calls           int64\n",
       "Eve Charge        float64\n",
       "Night Mins        float64\n",
       "Night Calls         int64\n",
       "Night Charge      float64\n",
       "Intl Mins         float64\n",
       "Intl Calls          int64\n",
       "Intl Charge       float64\n",
       "CustServ Calls      int64\n",
       "Churn?             object\n",
       "dtype: object"
      ]
     },
     "execution_count": 194,
     "metadata": {},
     "output_type": "execute_result"
    }
   ],
   "source": [
    "churn_df.dtypes"
   ]
  },
  {
   "cell_type": "code",
   "execution_count": 195,
   "metadata": {
    "collapsed": false
   },
   "outputs": [
    {
     "data": {
      "text/plain": [
       "State             0\n",
       "Account Length    0\n",
       "Area Code         0\n",
       "Phone             0\n",
       "Int'l Plan        0\n",
       "VMail Plan        0\n",
       "VMail Message     0\n",
       "Day Mins          0\n",
       "Day Calls         0\n",
       "Day Charge        0\n",
       "Eve Mins          0\n",
       "Eve Calls         0\n",
       "Eve Charge        0\n",
       "Night Mins        0\n",
       "Night Calls       0\n",
       "Night Charge      0\n",
       "Intl Mins         0\n",
       "Intl Calls        0\n",
       "Intl Charge       0\n",
       "CustServ Calls    0\n",
       "Churn?            0\n",
       "dtype: int64"
      ]
     },
     "execution_count": 195,
     "metadata": {},
     "output_type": "execute_result"
    }
   ],
   "source": [
    "# Check null\n",
    "churn_df.isnull().sum()"
   ]
  },
  {
   "cell_type": "code",
   "execution_count": 196,
   "metadata": {
    "collapsed": false
   },
   "outputs": [
    {
     "data": {
      "text/html": [
       "<div>\n",
       "<table border=\"1\" class=\"dataframe\">\n",
       "  <thead>\n",
       "    <tr style=\"text-align: right;\">\n",
       "      <th></th>\n",
       "      <th>Account Length</th>\n",
       "      <th>Area Code</th>\n",
       "      <th>VMail Message</th>\n",
       "      <th>Day Mins</th>\n",
       "      <th>Day Calls</th>\n",
       "      <th>Day Charge</th>\n",
       "      <th>Eve Mins</th>\n",
       "      <th>Eve Calls</th>\n",
       "      <th>Eve Charge</th>\n",
       "      <th>Night Mins</th>\n",
       "      <th>Night Calls</th>\n",
       "      <th>Night Charge</th>\n",
       "      <th>Intl Mins</th>\n",
       "      <th>Intl Calls</th>\n",
       "      <th>Intl Charge</th>\n",
       "      <th>CustServ Calls</th>\n",
       "    </tr>\n",
       "  </thead>\n",
       "  <tbody>\n",
       "    <tr>\n",
       "      <th>count</th>\n",
       "      <td>3333.000000</td>\n",
       "      <td>3333.000000</td>\n",
       "      <td>3333.000000</td>\n",
       "      <td>3333.000000</td>\n",
       "      <td>3333.000000</td>\n",
       "      <td>3333.000000</td>\n",
       "      <td>3333.000000</td>\n",
       "      <td>3333.000000</td>\n",
       "      <td>3333.000000</td>\n",
       "      <td>3333.000000</td>\n",
       "      <td>3333.000000</td>\n",
       "      <td>3333.000000</td>\n",
       "      <td>3333.000000</td>\n",
       "      <td>3333.000000</td>\n",
       "      <td>3333.000000</td>\n",
       "      <td>3333.000000</td>\n",
       "    </tr>\n",
       "    <tr>\n",
       "      <th>mean</th>\n",
       "      <td>101.064806</td>\n",
       "      <td>437.182418</td>\n",
       "      <td>8.099010</td>\n",
       "      <td>179.775098</td>\n",
       "      <td>100.435644</td>\n",
       "      <td>30.562307</td>\n",
       "      <td>200.980348</td>\n",
       "      <td>100.114311</td>\n",
       "      <td>17.083540</td>\n",
       "      <td>200.872037</td>\n",
       "      <td>100.107711</td>\n",
       "      <td>9.039325</td>\n",
       "      <td>10.237294</td>\n",
       "      <td>4.479448</td>\n",
       "      <td>2.764581</td>\n",
       "      <td>1.562856</td>\n",
       "    </tr>\n",
       "    <tr>\n",
       "      <th>std</th>\n",
       "      <td>39.822106</td>\n",
       "      <td>42.371290</td>\n",
       "      <td>13.688365</td>\n",
       "      <td>54.467389</td>\n",
       "      <td>20.069084</td>\n",
       "      <td>9.259435</td>\n",
       "      <td>50.713844</td>\n",
       "      <td>19.922625</td>\n",
       "      <td>4.310668</td>\n",
       "      <td>50.573847</td>\n",
       "      <td>19.568609</td>\n",
       "      <td>2.275873</td>\n",
       "      <td>2.791840</td>\n",
       "      <td>2.461214</td>\n",
       "      <td>0.753773</td>\n",
       "      <td>1.315491</td>\n",
       "    </tr>\n",
       "    <tr>\n",
       "      <th>min</th>\n",
       "      <td>1.000000</td>\n",
       "      <td>408.000000</td>\n",
       "      <td>0.000000</td>\n",
       "      <td>0.000000</td>\n",
       "      <td>0.000000</td>\n",
       "      <td>0.000000</td>\n",
       "      <td>0.000000</td>\n",
       "      <td>0.000000</td>\n",
       "      <td>0.000000</td>\n",
       "      <td>23.200000</td>\n",
       "      <td>33.000000</td>\n",
       "      <td>1.040000</td>\n",
       "      <td>0.000000</td>\n",
       "      <td>0.000000</td>\n",
       "      <td>0.000000</td>\n",
       "      <td>0.000000</td>\n",
       "    </tr>\n",
       "    <tr>\n",
       "      <th>25%</th>\n",
       "      <td>74.000000</td>\n",
       "      <td>408.000000</td>\n",
       "      <td>0.000000</td>\n",
       "      <td>143.700000</td>\n",
       "      <td>87.000000</td>\n",
       "      <td>24.430000</td>\n",
       "      <td>166.600000</td>\n",
       "      <td>87.000000</td>\n",
       "      <td>14.160000</td>\n",
       "      <td>167.000000</td>\n",
       "      <td>87.000000</td>\n",
       "      <td>7.520000</td>\n",
       "      <td>8.500000</td>\n",
       "      <td>3.000000</td>\n",
       "      <td>2.300000</td>\n",
       "      <td>1.000000</td>\n",
       "    </tr>\n",
       "    <tr>\n",
       "      <th>50%</th>\n",
       "      <td>101.000000</td>\n",
       "      <td>415.000000</td>\n",
       "      <td>0.000000</td>\n",
       "      <td>179.400000</td>\n",
       "      <td>101.000000</td>\n",
       "      <td>30.500000</td>\n",
       "      <td>201.400000</td>\n",
       "      <td>100.000000</td>\n",
       "      <td>17.120000</td>\n",
       "      <td>201.200000</td>\n",
       "      <td>100.000000</td>\n",
       "      <td>9.050000</td>\n",
       "      <td>10.300000</td>\n",
       "      <td>4.000000</td>\n",
       "      <td>2.780000</td>\n",
       "      <td>1.000000</td>\n",
       "    </tr>\n",
       "    <tr>\n",
       "      <th>75%</th>\n",
       "      <td>127.000000</td>\n",
       "      <td>510.000000</td>\n",
       "      <td>20.000000</td>\n",
       "      <td>216.400000</td>\n",
       "      <td>114.000000</td>\n",
       "      <td>36.790000</td>\n",
       "      <td>235.300000</td>\n",
       "      <td>114.000000</td>\n",
       "      <td>20.000000</td>\n",
       "      <td>235.300000</td>\n",
       "      <td>113.000000</td>\n",
       "      <td>10.590000</td>\n",
       "      <td>12.100000</td>\n",
       "      <td>6.000000</td>\n",
       "      <td>3.270000</td>\n",
       "      <td>2.000000</td>\n",
       "    </tr>\n",
       "    <tr>\n",
       "      <th>max</th>\n",
       "      <td>243.000000</td>\n",
       "      <td>510.000000</td>\n",
       "      <td>51.000000</td>\n",
       "      <td>350.800000</td>\n",
       "      <td>165.000000</td>\n",
       "      <td>59.640000</td>\n",
       "      <td>363.700000</td>\n",
       "      <td>170.000000</td>\n",
       "      <td>30.910000</td>\n",
       "      <td>395.000000</td>\n",
       "      <td>175.000000</td>\n",
       "      <td>17.770000</td>\n",
       "      <td>20.000000</td>\n",
       "      <td>20.000000</td>\n",
       "      <td>5.400000</td>\n",
       "      <td>9.000000</td>\n",
       "    </tr>\n",
       "  </tbody>\n",
       "</table>\n",
       "</div>"
      ],
      "text/plain": [
       "       Account Length    Area Code  VMail Message     Day Mins    Day Calls  \\\n",
       "count     3333.000000  3333.000000    3333.000000  3333.000000  3333.000000   \n",
       "mean       101.064806   437.182418       8.099010   179.775098   100.435644   \n",
       "std         39.822106    42.371290      13.688365    54.467389    20.069084   \n",
       "min          1.000000   408.000000       0.000000     0.000000     0.000000   \n",
       "25%         74.000000   408.000000       0.000000   143.700000    87.000000   \n",
       "50%        101.000000   415.000000       0.000000   179.400000   101.000000   \n",
       "75%        127.000000   510.000000      20.000000   216.400000   114.000000   \n",
       "max        243.000000   510.000000      51.000000   350.800000   165.000000   \n",
       "\n",
       "        Day Charge     Eve Mins    Eve Calls   Eve Charge   Night Mins  \\\n",
       "count  3333.000000  3333.000000  3333.000000  3333.000000  3333.000000   \n",
       "mean     30.562307   200.980348   100.114311    17.083540   200.872037   \n",
       "std       9.259435    50.713844    19.922625     4.310668    50.573847   \n",
       "min       0.000000     0.000000     0.000000     0.000000    23.200000   \n",
       "25%      24.430000   166.600000    87.000000    14.160000   167.000000   \n",
       "50%      30.500000   201.400000   100.000000    17.120000   201.200000   \n",
       "75%      36.790000   235.300000   114.000000    20.000000   235.300000   \n",
       "max      59.640000   363.700000   170.000000    30.910000   395.000000   \n",
       "\n",
       "       Night Calls  Night Charge    Intl Mins   Intl Calls  Intl Charge  \\\n",
       "count  3333.000000   3333.000000  3333.000000  3333.000000  3333.000000   \n",
       "mean    100.107711      9.039325    10.237294     4.479448     2.764581   \n",
       "std      19.568609      2.275873     2.791840     2.461214     0.753773   \n",
       "min      33.000000      1.040000     0.000000     0.000000     0.000000   \n",
       "25%      87.000000      7.520000     8.500000     3.000000     2.300000   \n",
       "50%     100.000000      9.050000    10.300000     4.000000     2.780000   \n",
       "75%     113.000000     10.590000    12.100000     6.000000     3.270000   \n",
       "max     175.000000     17.770000    20.000000    20.000000     5.400000   \n",
       "\n",
       "       CustServ Calls  \n",
       "count     3333.000000  \n",
       "mean         1.562856  \n",
       "std          1.315491  \n",
       "min          0.000000  \n",
       "25%          1.000000  \n",
       "50%          1.000000  \n",
       "75%          2.000000  \n",
       "max          9.000000  "
      ]
     },
     "execution_count": 196,
     "metadata": {},
     "output_type": "execute_result"
    }
   ],
   "source": [
    "# Describe Contineous data\n",
    "churn_df.describe()"
   ]
  },
  {
   "cell_type": "code",
   "execution_count": 197,
   "metadata": {
    "collapsed": false
   },
   "outputs": [
    {
     "data": {
      "text/html": [
       "<div>\n",
       "<table border=\"1\" class=\"dataframe\">\n",
       "  <thead>\n",
       "    <tr style=\"text-align: right;\">\n",
       "      <th></th>\n",
       "      <th>State</th>\n",
       "      <th>Phone</th>\n",
       "      <th>Int'l Plan</th>\n",
       "      <th>VMail Plan</th>\n",
       "      <th>Churn?</th>\n",
       "    </tr>\n",
       "  </thead>\n",
       "  <tbody>\n",
       "    <tr>\n",
       "      <th>count</th>\n",
       "      <td>3333</td>\n",
       "      <td>3333</td>\n",
       "      <td>3333</td>\n",
       "      <td>3333</td>\n",
       "      <td>3333</td>\n",
       "    </tr>\n",
       "    <tr>\n",
       "      <th>unique</th>\n",
       "      <td>51</td>\n",
       "      <td>3333</td>\n",
       "      <td>2</td>\n",
       "      <td>2</td>\n",
       "      <td>2</td>\n",
       "    </tr>\n",
       "    <tr>\n",
       "      <th>top</th>\n",
       "      <td>WV</td>\n",
       "      <td>417-1272</td>\n",
       "      <td>no</td>\n",
       "      <td>no</td>\n",
       "      <td>False.</td>\n",
       "    </tr>\n",
       "    <tr>\n",
       "      <th>freq</th>\n",
       "      <td>106</td>\n",
       "      <td>1</td>\n",
       "      <td>3010</td>\n",
       "      <td>2411</td>\n",
       "      <td>2850</td>\n",
       "    </tr>\n",
       "  </tbody>\n",
       "</table>\n",
       "</div>"
      ],
      "text/plain": [
       "       State     Phone Int'l Plan VMail Plan  Churn?\n",
       "count   3333      3333       3333       3333    3333\n",
       "unique    51      3333          2          2       2\n",
       "top       WV  417-1272         no         no  False.\n",
       "freq     106         1       3010       2411    2850"
      ]
     },
     "execution_count": 197,
     "metadata": {},
     "output_type": "execute_result"
    }
   ],
   "source": [
    "# Describe Cat variables\n",
    "\n",
    "churn_df.describe(include=['object'])"
   ]
  },
  {
   "cell_type": "code",
   "execution_count": 198,
   "metadata": {
    "collapsed": false
   },
   "outputs": [
    {
     "data": {
      "text/plain": [
       "0    0\n",
       "1    0\n",
       "2    0\n",
       "3    0\n",
       "4    0\n",
       "Name: Churn?, dtype: int64"
      ]
     },
     "execution_count": 198,
     "metadata": {},
     "output_type": "execute_result"
    }
   ],
   "source": [
    "#Create set of dependent and independent variables\n",
    "\n",
    "churn_result = churn_df['Churn?']\n",
    "y = churn_df['Churn?'].map({'True.':1, 'False.': 0})\n",
    "\n",
    "#Another way of changing data\n",
    "#y = np.where(churn_result == \"True.\", 1, 0)\n",
    "y.head()"
   ]
  },
  {
   "cell_type": "code",
   "execution_count": 199,
   "metadata": {
    "collapsed": false
   },
   "outputs": [
    {
     "data": {
      "text/plain": [
       "Index(['State', 'Account Length', 'Area Code', 'Phone', 'Int'l Plan',\n",
       "       'VMail Plan', 'VMail Message', 'Day Mins', 'Day Calls', 'Day Charge',\n",
       "       'Eve Mins', 'Eve Calls', 'Eve Charge', 'Night Mins', 'Night Calls',\n",
       "       'Night Charge', 'Intl Mins', 'Intl Calls', 'Intl Charge',\n",
       "       'CustServ Calls', 'Churn?'],\n",
       "      dtype='object')"
      ]
     },
     "execution_count": 199,
     "metadata": {},
     "output_type": "execute_result"
    }
   ],
   "source": [
    "churn_df.columns"
   ]
  },
  {
   "cell_type": "code",
   "execution_count": 200,
   "metadata": {
    "collapsed": false
   },
   "outputs": [
    {
     "data": {
      "text/html": [
       "<div>\n",
       "<table border=\"1\" class=\"dataframe\">\n",
       "  <thead>\n",
       "    <tr style=\"text-align: right;\">\n",
       "      <th></th>\n",
       "      <th>Account Length</th>\n",
       "      <th>VMail Message</th>\n",
       "      <th>Day Mins</th>\n",
       "      <th>Day Calls</th>\n",
       "      <th>Day Charge</th>\n",
       "      <th>Eve Mins</th>\n",
       "      <th>Eve Calls</th>\n",
       "      <th>Eve Charge</th>\n",
       "      <th>Night Mins</th>\n",
       "      <th>Night Calls</th>\n",
       "      <th>Night Charge</th>\n",
       "      <th>Intl Mins</th>\n",
       "      <th>Intl Calls</th>\n",
       "      <th>Intl Charge</th>\n",
       "      <th>CustServ Calls</th>\n",
       "    </tr>\n",
       "  </thead>\n",
       "  <tbody>\n",
       "    <tr>\n",
       "      <th>count</th>\n",
       "      <td>3333.000000</td>\n",
       "      <td>3333.000000</td>\n",
       "      <td>3333.000000</td>\n",
       "      <td>3333.000000</td>\n",
       "      <td>3333.000000</td>\n",
       "      <td>3333.000000</td>\n",
       "      <td>3333.000000</td>\n",
       "      <td>3333.000000</td>\n",
       "      <td>3333.000000</td>\n",
       "      <td>3333.000000</td>\n",
       "      <td>3333.000000</td>\n",
       "      <td>3333.000000</td>\n",
       "      <td>3333.000000</td>\n",
       "      <td>3333.000000</td>\n",
       "      <td>3333.000000</td>\n",
       "    </tr>\n",
       "    <tr>\n",
       "      <th>mean</th>\n",
       "      <td>101.064806</td>\n",
       "      <td>8.099010</td>\n",
       "      <td>179.775098</td>\n",
       "      <td>100.435644</td>\n",
       "      <td>30.562307</td>\n",
       "      <td>200.980348</td>\n",
       "      <td>100.114311</td>\n",
       "      <td>17.083540</td>\n",
       "      <td>200.872037</td>\n",
       "      <td>100.107711</td>\n",
       "      <td>9.039325</td>\n",
       "      <td>10.237294</td>\n",
       "      <td>4.479448</td>\n",
       "      <td>2.764581</td>\n",
       "      <td>1.562856</td>\n",
       "    </tr>\n",
       "    <tr>\n",
       "      <th>std</th>\n",
       "      <td>39.822106</td>\n",
       "      <td>13.688365</td>\n",
       "      <td>54.467389</td>\n",
       "      <td>20.069084</td>\n",
       "      <td>9.259435</td>\n",
       "      <td>50.713844</td>\n",
       "      <td>19.922625</td>\n",
       "      <td>4.310668</td>\n",
       "      <td>50.573847</td>\n",
       "      <td>19.568609</td>\n",
       "      <td>2.275873</td>\n",
       "      <td>2.791840</td>\n",
       "      <td>2.461214</td>\n",
       "      <td>0.753773</td>\n",
       "      <td>1.315491</td>\n",
       "    </tr>\n",
       "    <tr>\n",
       "      <th>min</th>\n",
       "      <td>1.000000</td>\n",
       "      <td>0.000000</td>\n",
       "      <td>0.000000</td>\n",
       "      <td>0.000000</td>\n",
       "      <td>0.000000</td>\n",
       "      <td>0.000000</td>\n",
       "      <td>0.000000</td>\n",
       "      <td>0.000000</td>\n",
       "      <td>23.200000</td>\n",
       "      <td>33.000000</td>\n",
       "      <td>1.040000</td>\n",
       "      <td>0.000000</td>\n",
       "      <td>0.000000</td>\n",
       "      <td>0.000000</td>\n",
       "      <td>0.000000</td>\n",
       "    </tr>\n",
       "    <tr>\n",
       "      <th>25%</th>\n",
       "      <td>74.000000</td>\n",
       "      <td>0.000000</td>\n",
       "      <td>143.700000</td>\n",
       "      <td>87.000000</td>\n",
       "      <td>24.430000</td>\n",
       "      <td>166.600000</td>\n",
       "      <td>87.000000</td>\n",
       "      <td>14.160000</td>\n",
       "      <td>167.000000</td>\n",
       "      <td>87.000000</td>\n",
       "      <td>7.520000</td>\n",
       "      <td>8.500000</td>\n",
       "      <td>3.000000</td>\n",
       "      <td>2.300000</td>\n",
       "      <td>1.000000</td>\n",
       "    </tr>\n",
       "    <tr>\n",
       "      <th>50%</th>\n",
       "      <td>101.000000</td>\n",
       "      <td>0.000000</td>\n",
       "      <td>179.400000</td>\n",
       "      <td>101.000000</td>\n",
       "      <td>30.500000</td>\n",
       "      <td>201.400000</td>\n",
       "      <td>100.000000</td>\n",
       "      <td>17.120000</td>\n",
       "      <td>201.200000</td>\n",
       "      <td>100.000000</td>\n",
       "      <td>9.050000</td>\n",
       "      <td>10.300000</td>\n",
       "      <td>4.000000</td>\n",
       "      <td>2.780000</td>\n",
       "      <td>1.000000</td>\n",
       "    </tr>\n",
       "    <tr>\n",
       "      <th>75%</th>\n",
       "      <td>127.000000</td>\n",
       "      <td>20.000000</td>\n",
       "      <td>216.400000</td>\n",
       "      <td>114.000000</td>\n",
       "      <td>36.790000</td>\n",
       "      <td>235.300000</td>\n",
       "      <td>114.000000</td>\n",
       "      <td>20.000000</td>\n",
       "      <td>235.300000</td>\n",
       "      <td>113.000000</td>\n",
       "      <td>10.590000</td>\n",
       "      <td>12.100000</td>\n",
       "      <td>6.000000</td>\n",
       "      <td>3.270000</td>\n",
       "      <td>2.000000</td>\n",
       "    </tr>\n",
       "    <tr>\n",
       "      <th>max</th>\n",
       "      <td>243.000000</td>\n",
       "      <td>51.000000</td>\n",
       "      <td>350.800000</td>\n",
       "      <td>165.000000</td>\n",
       "      <td>59.640000</td>\n",
       "      <td>363.700000</td>\n",
       "      <td>170.000000</td>\n",
       "      <td>30.910000</td>\n",
       "      <td>395.000000</td>\n",
       "      <td>175.000000</td>\n",
       "      <td>17.770000</td>\n",
       "      <td>20.000000</td>\n",
       "      <td>20.000000</td>\n",
       "      <td>5.400000</td>\n",
       "      <td>9.000000</td>\n",
       "    </tr>\n",
       "  </tbody>\n",
       "</table>\n",
       "</div>"
      ],
      "text/plain": [
       "       Account Length  VMail Message     Day Mins    Day Calls   Day Charge  \\\n",
       "count     3333.000000    3333.000000  3333.000000  3333.000000  3333.000000   \n",
       "mean       101.064806       8.099010   179.775098   100.435644    30.562307   \n",
       "std         39.822106      13.688365    54.467389    20.069084     9.259435   \n",
       "min          1.000000       0.000000     0.000000     0.000000     0.000000   \n",
       "25%         74.000000       0.000000   143.700000    87.000000    24.430000   \n",
       "50%        101.000000       0.000000   179.400000   101.000000    30.500000   \n",
       "75%        127.000000      20.000000   216.400000   114.000000    36.790000   \n",
       "max        243.000000      51.000000   350.800000   165.000000    59.640000   \n",
       "\n",
       "          Eve Mins    Eve Calls   Eve Charge   Night Mins  Night Calls  \\\n",
       "count  3333.000000  3333.000000  3333.000000  3333.000000  3333.000000   \n",
       "mean    200.980348   100.114311    17.083540   200.872037   100.107711   \n",
       "std      50.713844    19.922625     4.310668    50.573847    19.568609   \n",
       "min       0.000000     0.000000     0.000000    23.200000    33.000000   \n",
       "25%     166.600000    87.000000    14.160000   167.000000    87.000000   \n",
       "50%     201.400000   100.000000    17.120000   201.200000   100.000000   \n",
       "75%     235.300000   114.000000    20.000000   235.300000   113.000000   \n",
       "max     363.700000   170.000000    30.910000   395.000000   175.000000   \n",
       "\n",
       "       Night Charge    Intl Mins   Intl Calls  Intl Charge  CustServ Calls  \n",
       "count   3333.000000  3333.000000  3333.000000  3333.000000     3333.000000  \n",
       "mean       9.039325    10.237294     4.479448     2.764581        1.562856  \n",
       "std        2.275873     2.791840     2.461214     0.753773        1.315491  \n",
       "min        1.040000     0.000000     0.000000     0.000000        0.000000  \n",
       "25%        7.520000     8.500000     3.000000     2.300000        1.000000  \n",
       "50%        9.050000    10.300000     4.000000     2.780000        1.000000  \n",
       "75%       10.590000    12.100000     6.000000     3.270000        2.000000  \n",
       "max       17.770000    20.000000    20.000000     5.400000        9.000000  "
      ]
     },
     "execution_count": 200,
     "metadata": {},
     "output_type": "execute_result"
    }
   ],
   "source": [
    "# Decide to drop columns\n",
    "\n",
    "to_drop = ['State', 'Area Code', 'Phone', 'Churn?']\n",
    "churn_feat_space = churn_df.drop(to_drop, axis =1)\n",
    "churn_feat_space.describe()"
   ]
  },
  {
   "cell_type": "code",
   "execution_count": 201,
   "metadata": {
    "collapsed": false
   },
   "outputs": [
    {
     "data": {
      "text/html": [
       "<div>\n",
       "<table border=\"1\" class=\"dataframe\">\n",
       "  <thead>\n",
       "    <tr style=\"text-align: right;\">\n",
       "      <th></th>\n",
       "      <th>Int'l Plan</th>\n",
       "      <th>VMail Plan</th>\n",
       "    </tr>\n",
       "  </thead>\n",
       "  <tbody>\n",
       "    <tr>\n",
       "      <th>count</th>\n",
       "      <td>3333</td>\n",
       "      <td>3333</td>\n",
       "    </tr>\n",
       "    <tr>\n",
       "      <th>unique</th>\n",
       "      <td>2</td>\n",
       "      <td>2</td>\n",
       "    </tr>\n",
       "    <tr>\n",
       "      <th>top</th>\n",
       "      <td>no</td>\n",
       "      <td>no</td>\n",
       "    </tr>\n",
       "    <tr>\n",
       "      <th>freq</th>\n",
       "      <td>3010</td>\n",
       "      <td>2411</td>\n",
       "    </tr>\n",
       "  </tbody>\n",
       "</table>\n",
       "</div>"
      ],
      "text/plain": [
       "       Int'l Plan VMail Plan\n",
       "count        3333       3333\n",
       "unique          2          2\n",
       "top            no         no\n",
       "freq         3010       2411"
      ]
     },
     "execution_count": 201,
     "metadata": {},
     "output_type": "execute_result"
    }
   ],
   "source": [
    "churn_feat_space.describe(include=['object'])"
   ]
  },
  {
   "cell_type": "code",
   "execution_count": 202,
   "metadata": {
    "collapsed": false
   },
   "outputs": [],
   "source": [
    "# convert other cat var to numbers \n",
    "# conver yes and no to 1 and 0\n",
    "yes_no_columns = ['Int\\'l Plan', 'VMail Plan']\n",
    "churn_feat_space[yes_no_columns] = (churn_feat_space[yes_no_columns] == 'yes').astype('int')"
   ]
  },
  {
   "cell_type": "code",
   "execution_count": 203,
   "metadata": {
    "collapsed": false
   },
   "outputs": [
    {
     "data": {
      "text/plain": [
       "Int'l Plan    int32\n",
       "VMail Plan    int32\n",
       "dtype: object"
      ]
     },
     "execution_count": 203,
     "metadata": {},
     "output_type": "execute_result"
    }
   ],
   "source": [
    "churn_feat_space[yes_no_columns].dtypes"
   ]
  },
  {
   "cell_type": "code",
   "execution_count": 204,
   "metadata": {
    "collapsed": false
   },
   "outputs": [
    {
     "data": {
      "text/plain": [
       "Index(['Account Length', 'Int'l Plan', 'VMail Plan', 'VMail Message',\n",
       "       'Day Mins', 'Day Calls', 'Day Charge', 'Eve Mins', 'Eve Calls',\n",
       "       'Eve Charge', 'Night Mins', 'Night Calls', 'Night Charge', 'Intl Mins',\n",
       "       'Intl Calls', 'Intl Charge', 'CustServ Calls'],\n",
       "      dtype='object')"
      ]
     },
     "execution_count": 204,
     "metadata": {},
     "output_type": "execute_result"
    }
   ],
   "source": [
    "features = churn_feat_space.columns\n",
    "features"
   ]
  },
  {
   "cell_type": "code",
   "execution_count": 205,
   "metadata": {
    "collapsed": true
   },
   "outputs": [],
   "source": [
    "X = churn_feat_space.as_matrix().astype(np.float)"
   ]
  },
  {
   "cell_type": "code",
   "execution_count": 206,
   "metadata": {
    "collapsed": true
   },
   "outputs": [
    {
     "data": {
      "text/html": [
       "<div>\n",
       "<table border=\"1\" class=\"dataframe\">\n",
       "  <thead>\n",
       "    <tr style=\"text-align: right;\">\n",
       "      <th></th>\n",
       "      <th>Account Length</th>\n",
       "      <th>Int'l Plan</th>\n",
       "      <th>VMail Plan</th>\n",
       "      <th>VMail Message</th>\n",
       "      <th>Day Mins</th>\n",
       "      <th>Day Calls</th>\n",
       "      <th>Day Charge</th>\n",
       "      <th>Eve Mins</th>\n",
       "      <th>Eve Calls</th>\n",
       "      <th>Eve Charge</th>\n",
       "      <th>Night Mins</th>\n",
       "      <th>Night Calls</th>\n",
       "      <th>Night Charge</th>\n",
       "      <th>Intl Mins</th>\n",
       "      <th>Intl Calls</th>\n",
       "      <th>Intl Charge</th>\n",
       "      <th>CustServ Calls</th>\n",
       "    </tr>\n",
       "  </thead>\n",
       "  <tbody>\n",
       "    <tr>\n",
       "      <th>count</th>\n",
       "      <td>3333.000000</td>\n",
       "      <td>3333.000000</td>\n",
       "      <td>3333.000000</td>\n",
       "      <td>3333.000000</td>\n",
       "      <td>3333.000000</td>\n",
       "      <td>3333.000000</td>\n",
       "      <td>3333.000000</td>\n",
       "      <td>3333.000000</td>\n",
       "      <td>3333.000000</td>\n",
       "      <td>3333.000000</td>\n",
       "      <td>3333.000000</td>\n",
       "      <td>3333.000000</td>\n",
       "      <td>3333.000000</td>\n",
       "      <td>3333.000000</td>\n",
       "      <td>3333.000000</td>\n",
       "      <td>3333.000000</td>\n",
       "      <td>3333.000000</td>\n",
       "    </tr>\n",
       "    <tr>\n",
       "      <th>mean</th>\n",
       "      <td>101.064806</td>\n",
       "      <td>0.096910</td>\n",
       "      <td>0.276628</td>\n",
       "      <td>8.099010</td>\n",
       "      <td>179.775098</td>\n",
       "      <td>100.435644</td>\n",
       "      <td>30.562307</td>\n",
       "      <td>200.980348</td>\n",
       "      <td>100.114311</td>\n",
       "      <td>17.083540</td>\n",
       "      <td>200.872037</td>\n",
       "      <td>100.107711</td>\n",
       "      <td>9.039325</td>\n",
       "      <td>10.237294</td>\n",
       "      <td>4.479448</td>\n",
       "      <td>2.764581</td>\n",
       "      <td>1.562856</td>\n",
       "    </tr>\n",
       "    <tr>\n",
       "      <th>std</th>\n",
       "      <td>39.822106</td>\n",
       "      <td>0.295876</td>\n",
       "      <td>0.447403</td>\n",
       "      <td>13.688365</td>\n",
       "      <td>54.467389</td>\n",
       "      <td>20.069084</td>\n",
       "      <td>9.259435</td>\n",
       "      <td>50.713844</td>\n",
       "      <td>19.922625</td>\n",
       "      <td>4.310668</td>\n",
       "      <td>50.573847</td>\n",
       "      <td>19.568609</td>\n",
       "      <td>2.275873</td>\n",
       "      <td>2.791840</td>\n",
       "      <td>2.461214</td>\n",
       "      <td>0.753773</td>\n",
       "      <td>1.315491</td>\n",
       "    </tr>\n",
       "    <tr>\n",
       "      <th>min</th>\n",
       "      <td>1.000000</td>\n",
       "      <td>0.000000</td>\n",
       "      <td>0.000000</td>\n",
       "      <td>0.000000</td>\n",
       "      <td>0.000000</td>\n",
       "      <td>0.000000</td>\n",
       "      <td>0.000000</td>\n",
       "      <td>0.000000</td>\n",
       "      <td>0.000000</td>\n",
       "      <td>0.000000</td>\n",
       "      <td>23.200000</td>\n",
       "      <td>33.000000</td>\n",
       "      <td>1.040000</td>\n",
       "      <td>0.000000</td>\n",
       "      <td>0.000000</td>\n",
       "      <td>0.000000</td>\n",
       "      <td>0.000000</td>\n",
       "    </tr>\n",
       "    <tr>\n",
       "      <th>25%</th>\n",
       "      <td>74.000000</td>\n",
       "      <td>0.000000</td>\n",
       "      <td>0.000000</td>\n",
       "      <td>0.000000</td>\n",
       "      <td>143.700000</td>\n",
       "      <td>87.000000</td>\n",
       "      <td>24.430000</td>\n",
       "      <td>166.600000</td>\n",
       "      <td>87.000000</td>\n",
       "      <td>14.160000</td>\n",
       "      <td>167.000000</td>\n",
       "      <td>87.000000</td>\n",
       "      <td>7.520000</td>\n",
       "      <td>8.500000</td>\n",
       "      <td>3.000000</td>\n",
       "      <td>2.300000</td>\n",
       "      <td>1.000000</td>\n",
       "    </tr>\n",
       "    <tr>\n",
       "      <th>50%</th>\n",
       "      <td>101.000000</td>\n",
       "      <td>0.000000</td>\n",
       "      <td>0.000000</td>\n",
       "      <td>0.000000</td>\n",
       "      <td>179.400000</td>\n",
       "      <td>101.000000</td>\n",
       "      <td>30.500000</td>\n",
       "      <td>201.400000</td>\n",
       "      <td>100.000000</td>\n",
       "      <td>17.120000</td>\n",
       "      <td>201.200000</td>\n",
       "      <td>100.000000</td>\n",
       "      <td>9.050000</td>\n",
       "      <td>10.300000</td>\n",
       "      <td>4.000000</td>\n",
       "      <td>2.780000</td>\n",
       "      <td>1.000000</td>\n",
       "    </tr>\n",
       "    <tr>\n",
       "      <th>75%</th>\n",
       "      <td>127.000000</td>\n",
       "      <td>0.000000</td>\n",
       "      <td>1.000000</td>\n",
       "      <td>20.000000</td>\n",
       "      <td>216.400000</td>\n",
       "      <td>114.000000</td>\n",
       "      <td>36.790000</td>\n",
       "      <td>235.300000</td>\n",
       "      <td>114.000000</td>\n",
       "      <td>20.000000</td>\n",
       "      <td>235.300000</td>\n",
       "      <td>113.000000</td>\n",
       "      <td>10.590000</td>\n",
       "      <td>12.100000</td>\n",
       "      <td>6.000000</td>\n",
       "      <td>3.270000</td>\n",
       "      <td>2.000000</td>\n",
       "    </tr>\n",
       "    <tr>\n",
       "      <th>max</th>\n",
       "      <td>243.000000</td>\n",
       "      <td>1.000000</td>\n",
       "      <td>1.000000</td>\n",
       "      <td>51.000000</td>\n",
       "      <td>350.800000</td>\n",
       "      <td>165.000000</td>\n",
       "      <td>59.640000</td>\n",
       "      <td>363.700000</td>\n",
       "      <td>170.000000</td>\n",
       "      <td>30.910000</td>\n",
       "      <td>395.000000</td>\n",
       "      <td>175.000000</td>\n",
       "      <td>17.770000</td>\n",
       "      <td>20.000000</td>\n",
       "      <td>20.000000</td>\n",
       "      <td>5.400000</td>\n",
       "      <td>9.000000</td>\n",
       "    </tr>\n",
       "  </tbody>\n",
       "</table>\n",
       "</div>"
      ],
      "text/plain": [
       "       Account Length   Int'l Plan   VMail Plan  VMail Message     Day Mins  \\\n",
       "count     3333.000000  3333.000000  3333.000000    3333.000000  3333.000000   \n",
       "mean       101.064806     0.096910     0.276628       8.099010   179.775098   \n",
       "std         39.822106     0.295876     0.447403      13.688365    54.467389   \n",
       "min          1.000000     0.000000     0.000000       0.000000     0.000000   \n",
       "25%         74.000000     0.000000     0.000000       0.000000   143.700000   \n",
       "50%        101.000000     0.000000     0.000000       0.000000   179.400000   \n",
       "75%        127.000000     0.000000     1.000000      20.000000   216.400000   \n",
       "max        243.000000     1.000000     1.000000      51.000000   350.800000   \n",
       "\n",
       "         Day Calls   Day Charge     Eve Mins    Eve Calls   Eve Charge  \\\n",
       "count  3333.000000  3333.000000  3333.000000  3333.000000  3333.000000   \n",
       "mean    100.435644    30.562307   200.980348   100.114311    17.083540   \n",
       "std      20.069084     9.259435    50.713844    19.922625     4.310668   \n",
       "min       0.000000     0.000000     0.000000     0.000000     0.000000   \n",
       "25%      87.000000    24.430000   166.600000    87.000000    14.160000   \n",
       "50%     101.000000    30.500000   201.400000   100.000000    17.120000   \n",
       "75%     114.000000    36.790000   235.300000   114.000000    20.000000   \n",
       "max     165.000000    59.640000   363.700000   170.000000    30.910000   \n",
       "\n",
       "        Night Mins  Night Calls  Night Charge    Intl Mins   Intl Calls  \\\n",
       "count  3333.000000  3333.000000   3333.000000  3333.000000  3333.000000   \n",
       "mean    200.872037   100.107711      9.039325    10.237294     4.479448   \n",
       "std      50.573847    19.568609      2.275873     2.791840     2.461214   \n",
       "min      23.200000    33.000000      1.040000     0.000000     0.000000   \n",
       "25%     167.000000    87.000000      7.520000     8.500000     3.000000   \n",
       "50%     201.200000   100.000000      9.050000    10.300000     4.000000   \n",
       "75%     235.300000   113.000000     10.590000    12.100000     6.000000   \n",
       "max     395.000000   175.000000     17.770000    20.000000    20.000000   \n",
       "\n",
       "       Intl Charge  CustServ Calls  \n",
       "count  3333.000000     3333.000000  \n",
       "mean      2.764581        1.562856  \n",
       "std       0.753773        1.315491  \n",
       "min       0.000000        0.000000  \n",
       "25%       2.300000        1.000000  \n",
       "50%       2.780000        1.000000  \n",
       "75%       3.270000        2.000000  \n",
       "max       5.400000        9.000000  "
      ]
     },
     "execution_count": 206,
     "metadata": {},
     "output_type": "execute_result"
    }
   ],
   "source": [
    "churn_feat_space.describe()"
   ]
  },
  {
   "cell_type": "code",
   "execution_count": 207,
   "metadata": {
    "collapsed": true
   },
   "outputs": [],
   "source": [
    "from sklearn.preprocessing import StandardScaler\n",
    "scaler = StandardScaler()\n",
    "X = scaler.fit_transform(X)"
   ]
  },
  {
   "cell_type": "code",
   "execution_count": 208,
   "metadata": {
    "collapsed": true
   },
   "outputs": [],
   "source": [
    "?StandardScaler"
   ]
  },
  {
   "cell_type": "markdown",
   "metadata": {},
   "source": [
    "# If at all you have infinite numbers in your data\n",
    "\n",
    "Then just find range of your data and take largest number and multiply by 100 and replace inf by that new number"
   ]
  },
  {
   "cell_type": "code",
   "execution_count": 209,
   "metadata": {
    "collapsed": false
   },
   "outputs": [
    {
     "name": "stdout",
     "output_type": "stream",
     "text": [
      "Feature space has 3333 observations and 17 features\n"
     ]
    }
   ],
   "source": [
    "print(\"Feature space has %d observations and %d features\"% (X.shape[0], X.shape[1]))"
   ]
  },
  {
   "cell_type": "code",
   "execution_count": 210,
   "metadata": {
    "collapsed": false
   },
   "outputs": [
    {
     "name": "stdout",
     "output_type": "stream",
     "text": [
      "Unique target labels :  [0 1]\n"
     ]
    }
   ],
   "source": [
    "print('Unique target labels : ', np.unique(y))"
   ]
  },
  {
   "cell_type": "code",
   "execution_count": 211,
   "metadata": {
    "collapsed": true
   },
   "outputs": [],
   "source": [
    "# function for cross validation\n",
    "from sklearn.cross_validation import KFold\n",
    "\n",
    "# function for cross-validation\n",
    "from sklearn.cross_validation import KFold\n",
    "def run_cv(X,y,clf_class,**kwargs):\n",
    "    # construct a k fold object\n",
    "    kf = KFold(len(y),n_folds = 5, shuffle=True)\n",
    "    y_pred = y.copy()\n",
    "    for train_index,test_index in kf:\n",
    "        X_train, X_test = X[train_index],X[test_index]\n",
    "        y_train = y[train_index]\n",
    "        y_test = y[test_index]\n",
    "        \n",
    "        # Intialize a classifier with its arguments\n",
    "        clf=clf_class(**kwargs)\n",
    "        # model fit\n",
    "        clf.fit(X_train,y_train)\n",
    "        # model prediction\n",
    "        y_pred[test_index]=clf.predict(X_test)\n",
    "    return y_pred        "
   ]
  },
  {
   "cell_type": "markdown",
   "metadata": {},
   "source": [
    "from sklearn.model_selection import KFold"
   ]
  },
  {
   "cell_type": "code",
   "execution_count": 212,
   "metadata": {
    "collapsed": true
   },
   "outputs": [],
   "source": [
    "from sklearn.svm import SVC\n",
    "from sklearn.ensemble import RandomForestClassifier as RandomForest\n",
    "from sklearn.neighbors import KNeighborsClassifier as KNN\n"
   ]
  },
  {
   "cell_type": "code",
   "execution_count": 213,
   "metadata": {
    "collapsed": true
   },
   "outputs": [],
   "source": [
    "from sklearn import metrics "
   ]
  },
  {
   "cell_type": "code",
   "execution_count": 214,
   "metadata": {
    "collapsed": true
   },
   "outputs": [],
   "source": [
    "def accuracy(y_true, y_pred):\n",
    "    return np.mean(y_true == y_pred)"
   ]
  },
  {
   "cell_type": "code",
   "execution_count": 215,
   "metadata": {
    "collapsed": false
   },
   "outputs": [
    {
     "name": "stdout",
     "output_type": "stream",
     "text": [
      "Support Vector Machine: \n",
      "0.917792\n"
     ]
    }
   ],
   "source": [
    "print('Support Vector Machine: ')\n",
    "print(\"%f\"% accuracy(y, run_cv(X, y, SVC)))"
   ]
  },
  {
   "cell_type": "code",
   "execution_count": 216,
   "metadata": {
    "collapsed": false
   },
   "outputs": [
    {
     "name": "stdout",
     "output_type": "stream",
     "text": [
      "Random Forest:\n",
      "0.942094\n"
     ]
    }
   ],
   "source": [
    "print(\"Random Forest:\")\n",
    "print(\"%f\"% accuracy(y,run_cv(X,y,RandomForest)))"
   ]
  },
  {
   "cell_type": "code",
   "execution_count": 217,
   "metadata": {
    "collapsed": false
   },
   "outputs": [
    {
     "name": "stdout",
     "output_type": "stream",
     "text": [
      "K Nearest Neighbor:\n",
      "0.889289\n"
     ]
    }
   ],
   "source": [
    "print(\"K Nearest Neighbor:\")\n",
    "print(\"%f\"% accuracy(y,run_cv(X,y,KNN)))"
   ]
  },
  {
   "cell_type": "markdown",
   "metadata": {},
   "source": [
    "Precision and Recall"
   ]
  },
  {
   "cell_type": "code",
   "execution_count": 218,
   "metadata": {
    "collapsed": true
   },
   "outputs": [],
   "source": [
    "from sklearn.metrics import confusion_matrix"
   ]
  },
  {
   "cell_type": "code",
   "execution_count": 219,
   "metadata": {
    "collapsed": false
   },
   "outputs": [],
   "source": [
    "# Create a confusion matrix\n",
    "y = np.array(y)\n",
    "class_names = np.unique(y)\n",
    "\n",
    "confusion_matrices = [\n",
    "(\"Support vector Machines\",confusion_matrix(y,run_cv(X,y,SVC))),\n",
    "(\"Random Forest\",confusion_matrix(y,run_cv(X,y,RandomForest))),\n",
    "(\"K nearest neighbors\",confusion_matrix(y,run_cv(X,y,KNN)))]"
   ]
  },
  {
   "cell_type": "code",
   "execution_count": 220,
   "metadata": {
    "collapsed": false
   },
   "outputs": [
    {
     "data": {
      "text/plain": [
       "[('Support vector Machines', array([[2822,   28],\n",
       "         [ 235,  248]])), ('Random Forest', array([[2826,   24],\n",
       "         [ 160,  323]])), ('K nearest neighbors', array([[2812,   38],\n",
       "         [ 317,  166]]))]"
      ]
     },
     "execution_count": 220,
     "metadata": {},
     "output_type": "execute_result"
    }
   ],
   "source": [
    "confusion_matrices"
   ]
  },
  {
   "cell_type": "code",
   "execution_count": 221,
   "metadata": {
    "collapsed": false
   },
   "outputs": [
    {
     "data": {
      "text/plain": [
       "array([[2822,   28],\n",
       "       [ 235,  248]])"
      ]
     },
     "execution_count": 221,
     "metadata": {},
     "output_type": "execute_result"
    }
   ],
   "source": [
    "confusion_matrices[0][1]"
   ]
  },
  {
   "cell_type": "code",
   "execution_count": 222,
   "metadata": {
    "collapsed": true
   },
   "outputs": [],
   "source": [
    "from matplotlib import pyplot as plt\n",
    "%matplotlib inline"
   ]
  },
  {
   "cell_type": "code",
   "execution_count": 223,
   "metadata": {
    "collapsed": false
   },
   "outputs": [],
   "source": [
    "#Create plotting\n",
    "\n",
    "def draw_confusion_matrix(confusion_matrices,class_names):\n",
    "    fig = plt.figure()\n",
    "    \n",
    "\n",
    "    dd = [131, 132, 133]\n",
    "    for i in range(3):\n",
    "        ax =  fig.add_subplot(dd[i])\n",
    "        ax.matshow(confusion_matrices[i][1])\n",
    "        ax.set_title(confusion_matrices[i][0])\n",
    "        ax.set_xlabel('Prediction')\n",
    "        ax.set_ylabel('True')\n",
    "#        plt.show"
   ]
  },
  {
   "cell_type": "code",
   "execution_count": 224,
   "metadata": {
    "collapsed": false
   },
   "outputs": [
    {
     "data": {
      "image/png": "[encoded data removed]",
      "text/plain": [
       "<matplotlib.figure.Figure at 0xcd50080>"
      ]
     },
     "metadata": {},
     "output_type": "display_data"
    }
   ],
   "source": [
    "draw_confusion_matrix(confusion_matrices, class_names)"
   ]
  },
  {
   "cell_type": "markdown",
   "metadata": {},
   "source": [
    "### Think Probabilities"
   ]
  },
  {
   "cell_type": "code",
   "execution_count": 225,
   "metadata": {
    "collapsed": true
   },
   "outputs": [],
   "source": [
    "\n",
    "# function for cross-validation\n",
    "from sklearn.cross_validation import KFold\n",
    "def run_cv_prob(X, y, clf_class, **kwargs):\n",
    "    # construct a k fold object\n",
    "    kf = KFold(len(y),n_folds = 5, shuffle=True)\n",
    "    y_prob = np.zeros([len(y), 2])\n",
    "\n",
    "    for train_index,test_index in kf:\n",
    "        X_train, X_test = X[train_index],X[test_index]\n",
    "        y_train = y[train_index]\n",
    "        \n",
    "        # Intialize a classifier with its arguments\n",
    "        clf= clf_class(**kwargs)\n",
    "        # model fit\n",
    "        clf.fit(X_train,y_train)\n",
    "        # model prediction\n",
    "        y_prob[test_index]=clf.predict_proba(X_test)\n",
    "\n",
    "        return y_prob        "
   ]
  },
  {
   "cell_type": "code",
   "execution_count": 226,
   "metadata": {
    "collapsed": false
   },
   "outputs": [
    {
     "data": {
      "text/plain": [
       "array([[ 0.,  0.],\n",
       "       [ 1.,  0.],\n",
       "       [ 1.,  0.],\n",
       "       ..., \n",
       "       [ 0.,  0.],\n",
       "       [ 0.,  0.],\n",
       "       [ 1.,  0.]])"
      ]
     },
     "execution_count": 226,
     "metadata": {},
     "output_type": "execute_result"
    }
   ],
   "source": [
    "pred_prob = run_cv_prob(X, y, RandomForest, n_estimators =10)\n",
    "\n",
    "pred_prob"
   ]
  },
  {
   "cell_type": "code",
   "execution_count": 227,
   "metadata": {
    "collapsed": false
   },
   "outputs": [],
   "source": [
    "pred_churn = pred_prob[:,1]\n",
    "is_churn = (y == 1)\n",
    "\n",
    "#Number of times a predicted probability is assigned to an observation\n",
    "counts = pd.value_counts(pred_churn)"
   ]
  },
  {
   "cell_type": "code",
   "execution_count": 228,
   "metadata": {
    "collapsed": false
   },
   "outputs": [
    {
     "data": {
      "text/plain": [
       "array([[ 0.,  0.],\n",
       "       [ 1.,  0.],\n",
       "       [ 1.,  0.],\n",
       "       ..., \n",
       "       [ 0.,  0.],\n",
       "       [ 0.,  0.],\n",
       "       [ 1.,  0.]])"
      ]
     },
     "execution_count": 228,
     "metadata": {},
     "output_type": "execute_result"
    }
   ],
   "source": [
    "pred_prob"
   ]
  },
  {
   "cell_type": "code",
   "execution_count": 229,
   "metadata": {
    "collapsed": false
   },
   "outputs": [],
   "source": [
    "#Calculate true probabilities\n",
    "true_prob = {}\n",
    "\n",
    "for prob in counts.index:\n",
    "    true_prob[prob] = np.mean(is_churn[pred_churn == prob])\n",
    "    true_prob = pd.Series(true_prob)"
   ]
  },
  {
   "cell_type": "code",
   "execution_count": 230,
   "metadata": {
    "collapsed": false
   },
   "outputs": [
    {
     "data": {
      "text/html": [
       "<div>\n",
       "<table border=\"1\" class=\"dataframe\">\n",
       "  <thead>\n",
       "    <tr style=\"text-align: right;\">\n",
       "      <th></th>\n",
       "      <th>pred_prob</th>\n",
       "      <th>count</th>\n",
       "      <th>true_prob</th>\n",
       "    </tr>\n",
       "  </thead>\n",
       "  <tbody>\n",
       "    <tr>\n",
       "      <th>0</th>\n",
       "      <td>0.0</td>\n",
       "      <td>3018</td>\n",
       "      <td>0.131544</td>\n",
       "    </tr>\n",
       "    <tr>\n",
       "      <th>1</th>\n",
       "      <td>0.1</td>\n",
       "      <td>143</td>\n",
       "      <td>0.020979</td>\n",
       "    </tr>\n",
       "    <tr>\n",
       "      <th>2</th>\n",
       "      <td>0.2</td>\n",
       "      <td>52</td>\n",
       "      <td>0.019231</td>\n",
       "    </tr>\n",
       "    <tr>\n",
       "      <th>3</th>\n",
       "      <td>0.9</td>\n",
       "      <td>23</td>\n",
       "      <td>0.956522</td>\n",
       "    </tr>\n",
       "    <tr>\n",
       "      <th>4</th>\n",
       "      <td>0.3</td>\n",
       "      <td>22</td>\n",
       "      <td>0.227273</td>\n",
       "    </tr>\n",
       "    <tr>\n",
       "      <th>5</th>\n",
       "      <td>0.8</td>\n",
       "      <td>18</td>\n",
       "      <td>1.000000</td>\n",
       "    </tr>\n",
       "    <tr>\n",
       "      <th>6</th>\n",
       "      <td>0.4</td>\n",
       "      <td>16</td>\n",
       "      <td>0.187500</td>\n",
       "    </tr>\n",
       "    <tr>\n",
       "      <th>7</th>\n",
       "      <td>1.0</td>\n",
       "      <td>13</td>\n",
       "      <td>1.000000</td>\n",
       "    </tr>\n",
       "    <tr>\n",
       "      <th>8</th>\n",
       "      <td>0.7</td>\n",
       "      <td>12</td>\n",
       "      <td>0.833333</td>\n",
       "    </tr>\n",
       "    <tr>\n",
       "      <th>9</th>\n",
       "      <td>0.5</td>\n",
       "      <td>11</td>\n",
       "      <td>0.727273</td>\n",
       "    </tr>\n",
       "    <tr>\n",
       "      <th>10</th>\n",
       "      <td>0.6</td>\n",
       "      <td>5</td>\n",
       "      <td>0.600000</td>\n",
       "    </tr>\n",
       "  </tbody>\n",
       "</table>\n",
       "</div>"
      ],
      "text/plain": [
       "    pred_prob  count  true_prob\n",
       "0         0.0   3018   0.131544\n",
       "1         0.1    143   0.020979\n",
       "2         0.2     52   0.019231\n",
       "3         0.9     23   0.956522\n",
       "4         0.3     22   0.227273\n",
       "5         0.8     18   1.000000\n",
       "6         0.4     16   0.187500\n",
       "7         1.0     13   1.000000\n",
       "8         0.7     12   0.833333\n",
       "9         0.5     11   0.727273\n",
       "10        0.6      5   0.600000"
      ]
     },
     "execution_count": 230,
     "metadata": {},
     "output_type": "execute_result"
    }
   ],
   "source": [
    "\n",
    "counts = pd.concat([counts, true_prob], axis =1).reset_index()\n",
    "\n",
    "counts.columns = ['pred_prob', 'count', 'true_prob']\n",
    "counts"
   ]
  },
  {
   "cell_type": "code",
   "execution_count": 231,
   "metadata": {
    "collapsed": true
   },
   "outputs": [
    {
     "data": {
      "text/html": [
       "<div>\n",
       "<table border=\"1\" class=\"dataframe\">\n",
       "  <thead>\n",
       "    <tr style=\"text-align: right;\">\n",
       "      <th></th>\n",
       "      <th>pred_prob</th>\n",
       "      <th>count</th>\n",
       "      <th>true_prob</th>\n",
       "    </tr>\n",
       "  </thead>\n",
       "  <tbody>\n",
       "    <tr>\n",
       "      <th>0</th>\n",
       "      <td>0.0</td>\n",
       "      <td>3018</td>\n",
       "      <td>0.131544</td>\n",
       "    </tr>\n",
       "    <tr>\n",
       "      <th>1</th>\n",
       "      <td>0.1</td>\n",
       "      <td>143</td>\n",
       "      <td>0.020979</td>\n",
       "    </tr>\n",
       "    <tr>\n",
       "      <th>2</th>\n",
       "      <td>0.2</td>\n",
       "      <td>52</td>\n",
       "      <td>0.019231</td>\n",
       "    </tr>\n",
       "    <tr>\n",
       "      <th>3</th>\n",
       "      <td>0.9</td>\n",
       "      <td>23</td>\n",
       "      <td>0.956522</td>\n",
       "    </tr>\n",
       "    <tr>\n",
       "      <th>4</th>\n",
       "      <td>0.3</td>\n",
       "      <td>22</td>\n",
       "      <td>0.227273</td>\n",
       "    </tr>\n",
       "    <tr>\n",
       "      <th>5</th>\n",
       "      <td>0.8</td>\n",
       "      <td>18</td>\n",
       "      <td>1.000000</td>\n",
       "    </tr>\n",
       "    <tr>\n",
       "      <th>6</th>\n",
       "      <td>0.4</td>\n",
       "      <td>16</td>\n",
       "      <td>0.187500</td>\n",
       "    </tr>\n",
       "    <tr>\n",
       "      <th>7</th>\n",
       "      <td>1.0</td>\n",
       "      <td>13</td>\n",
       "      <td>1.000000</td>\n",
       "    </tr>\n",
       "    <tr>\n",
       "      <th>8</th>\n",
       "      <td>0.7</td>\n",
       "      <td>12</td>\n",
       "      <td>0.833333</td>\n",
       "    </tr>\n",
       "    <tr>\n",
       "      <th>9</th>\n",
       "      <td>0.5</td>\n",
       "      <td>11</td>\n",
       "      <td>0.727273</td>\n",
       "    </tr>\n",
       "    <tr>\n",
       "      <th>10</th>\n",
       "      <td>0.6</td>\n",
       "      <td>5</td>\n",
       "      <td>0.600000</td>\n",
       "    </tr>\n",
       "  </tbody>\n",
       "</table>\n",
       "</div>"
      ],
      "text/plain": [
       "    pred_prob  count  true_prob\n",
       "0         0.0   3018   0.131544\n",
       "1         0.1    143   0.020979\n",
       "2         0.2     52   0.019231\n",
       "3         0.9     23   0.956522\n",
       "4         0.3     22   0.227273\n",
       "5         0.8     18   1.000000\n",
       "6         0.4     16   0.187500\n",
       "7         1.0     13   1.000000\n",
       "8         0.7     12   0.833333\n",
       "9         0.5     11   0.727273\n",
       "10        0.6      5   0.600000"
      ]
     },
     "execution_count": 231,
     "metadata": {},
     "output_type": "execute_result"
    }
   ],
   "source": [
    "counts"
   ]
  },
  {
   "cell_type": "code",
   "execution_count": 245,
   "metadata": {
    "collapsed": false
   },
   "outputs": [
    {
     "data": {
      "image/png": "[encoded data removed]",
      "text/plain": [
       "<matplotlib.figure.Figure at 0xcd14748>"
      ]
     },
     "metadata": {},
     "output_type": "display_data"
    }
   ],
   "source": [
    "colors = np.random.rand(len(counts))\n",
    "plt.scatter(x=counts['pred_prob'], y= counts['true_prob'], s=counts['count'], c=colors, alpha=0.5)\n",
    "plt.show()"
   ]
  },
  {
   "cell_type": "code",
   "execution_count": null,
   "metadata": {
    "collapsed": true
   },
   "outputs": [],
   "source": []
  }
 ],
 "metadata": {
  "anaconda-cloud": {},
  "kernelspec": {
   "display_name": "Python [conda root]",
   "language": "python",
   "name": "conda-root-py"
  },
  "language_info": {
   "codemirror_mode": {
    "name": "ipython",
    "version": 3
   },
   "file_extension": ".py",
   "mimetype": "text/x-python",
   "name": "python",
   "nbconvert_exporter": "python",
   "pygments_lexer": "ipython3",
   "version": "3.5.2"
  }
 },
 "nbformat": 4,
 "nbformat_minor": 1
}
